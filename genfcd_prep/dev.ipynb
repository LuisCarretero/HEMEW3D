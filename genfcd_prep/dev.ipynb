{
 "cells": [
  {
   "cell_type": "code",
   "execution_count": 1,
   "metadata": {},
   "outputs": [],
   "source": [
    "import os\n",
    "import numpy as np\n",
    "import pandas as pd\n",
    "import matplotlib.pyplot as plt"
   ]
  },
  {
   "cell_type": "markdown",
   "metadata": {},
   "source": [
    "## Check files on Euler storage"
   ]
  },
  {
   "cell_type": "markdown",
   "metadata": {},
   "source": [
    "### Version 2"
   ]
  },
  {
   "cell_type": "markdown",
   "metadata": {},
   "source": [
    "#### Materials\n",
    "30k, all samples"
   ]
  },
  {
   "cell_type": "code",
   "execution_count": 6,
   "metadata": {},
   "outputs": [
    {
     "data": {
      "text/plain": [
       "['material100000-101999.npy',\n",
       " 'material102000-103999.npy',\n",
       " 'material104000-105999.npy',\n",
       " 'material106000-107999.npy',\n",
       " 'material108000-109999.npy',\n",
       " 'material110000-111999.npy',\n",
       " 'material112000-113999.npy',\n",
       " 'material114000-115999.npy',\n",
       " 'material116000-117999.npy',\n",
       " 'material118000-119999.npy',\n",
       " 'material120000-121999.npy',\n",
       " 'material122000-123999.npy',\n",
       " 'material124000-125999.npy',\n",
       " 'material126000-127999.npy',\n",
       " 'material128000-129999.npy']"
      ]
     },
     "execution_count": 6,
     "metadata": {},
     "output_type": "execute_result"
    }
   ],
   "source": [
    "data_basepath = r'/cluster/work/math/camlab-data/Wave_HemewS-3D'\n",
    "res = sorted(os.listdir(os.path.join(data_basepath, 'materials')))  # velocity\n",
    "res"
   ]
  },
  {
   "cell_type": "code",
   "execution_count": 11,
   "metadata": {},
   "outputs": [
    {
     "data": {
      "text/plain": [
       "(2000, 32, 32, 32)"
      ]
     },
     "execution_count": 11,
     "metadata": {},
     "output_type": "execute_result"
    }
   ],
   "source": [
    "a = np.load(os.path.join(data_basepath, 'materials', res[0]))\n",
    "a.shape"
   ]
  },
  {
   "cell_type": "markdown",
   "metadata": {},
   "source": [
    "#### Velocity\n",
    "\n",
    "5.4k, only subset?"
   ]
  },
  {
   "cell_type": "code",
   "execution_count": 21,
   "metadata": {},
   "outputs": [
    {
     "data": {
      "text/plain": [
       "50.0"
      ]
     },
     "execution_count": 21,
     "metadata": {},
     "output_type": "execute_result"
    }
   ],
   "source": [
    "53687091200/(2**30)  # 50 GiB"
   ]
  },
  {
   "cell_type": "code",
   "execution_count": 16,
   "metadata": {},
   "outputs": [
    {
     "data": {
      "text/plain": [
       "['velocity100000-100099.zip',\n",
       " 'velocity100100-100199.zip',\n",
       " 'velocity100200-100299.zip',\n",
       " 'velocity100300-100399.zip',\n",
       " 'velocity100400-100499.zip',\n",
       " 'velocity100500-100599.zip',\n",
       " 'velocity100600-100699.zip',\n",
       " 'velocity100700-100799.zip',\n",
       " 'velocity100800-100899.zip',\n",
       " 'velocity100900-100999.zip',\n",
       " 'velocity101000-101099.zip',\n",
       " 'velocity101100-101199.zip',\n",
       " 'velocity101200-101299.zip',\n",
       " 'velocity101300-101399.zip',\n",
       " 'velocity101400-101499.zip',\n",
       " 'velocity101500-101599.zip',\n",
       " 'velocity101600-101699.zip',\n",
       " 'velocity101700-101799.zip',\n",
       " 'velocity101800-101899.zip',\n",
       " 'velocity101900-101999.zip',\n",
       " 'velocity102000-102099.zip',\n",
       " 'velocity102100-102199.zip',\n",
       " 'velocity102200-102299.zip',\n",
       " 'velocity102300-102399.zip',\n",
       " 'velocity102400-102499.zip',\n",
       " 'velocity102500-102599.zip',\n",
       " 'velocity102600-102699.zip',\n",
       " 'velocity102700-102799.zip',\n",
       " 'velocity102800-102899.zip',\n",
       " 'velocity102900-102999.zip',\n",
       " 'velocity103000-103099.zip',\n",
       " 'velocity103100-103199.zip',\n",
       " 'velocity103200-103299.zip',\n",
       " 'velocity103300-103399.zip',\n",
       " 'velocity103400-103499.zip',\n",
       " 'velocity103500-103599.zip',\n",
       " 'velocity103600-103699.zip',\n",
       " 'velocity103700-103799.zip',\n",
       " 'velocity103800-103899.zip',\n",
       " 'velocity103900-103999.zip',\n",
       " 'velocity104000-104099.zip',\n",
       " 'velocity104100-104199.zip',\n",
       " 'velocity104200-104299.zip',\n",
       " 'velocity104300-104399.zip',\n",
       " 'velocity104400-104499.zip',\n",
       " 'velocity104500-104599.zip',\n",
       " 'velocity104600-104699.zip',\n",
       " 'velocity104700-104799.zip',\n",
       " 'velocity104800-104899.zip',\n",
       " 'velocity104900-104999.zip',\n",
       " 'velocity105000-105099.zip',\n",
       " 'velocity105100-105199.zip',\n",
       " 'velocity105200-105299.zip',\n",
       " 'velocity105300-105399.zip']"
      ]
     },
     "execution_count": 16,
     "metadata": {},
     "output_type": "execute_result"
    }
   ],
   "source": [
    "data_basepath = r'/cluster/work/math/camlab-data/Wave_HemewS-3D'\n",
    "res = sorted(os.listdir(os.path.join(data_basepath, 'velocity')))  # \n",
    "res"
   ]
  },
  {
   "cell_type": "markdown",
   "metadata": {},
   "source": [
    "#### Metadata"
   ]
  },
  {
   "cell_type": "code",
   "execution_count": 24,
   "metadata": {},
   "outputs": [
    {
     "data": {
      "text/html": [
       "<div>\n",
       "<style scoped>\n",
       "    .dataframe tbody tr th:only-of-type {\n",
       "        vertical-align: middle;\n",
       "    }\n",
       "\n",
       "    .dataframe tbody tr th {\n",
       "        vertical-align: top;\n",
       "    }\n",
       "\n",
       "    .dataframe thead th {\n",
       "        text-align: right;\n",
       "    }\n",
       "</style>\n",
       "<table border=\"1\" class=\"dataframe\">\n",
       "  <thead>\n",
       "    <tr style=\"text-align: right;\">\n",
       "      <th></th>\n",
       "      <th>index</th>\n",
       "      <th>x_s (m)</th>\n",
       "      <th>y_s (m)</th>\n",
       "      <th>z_s (m)</th>\n",
       "      <th>strike (°)</th>\n",
       "      <th>dip (°)</th>\n",
       "      <th>rake (°)</th>\n",
       "    </tr>\n",
       "  </thead>\n",
       "  <tbody>\n",
       "    <tr>\n",
       "      <th>0</th>\n",
       "      <td>100000</td>\n",
       "      <td>6161</td>\n",
       "      <td>8368</td>\n",
       "      <td>-8803</td>\n",
       "      <td>125.477915</td>\n",
       "      <td>24.269489</td>\n",
       "      <td>109.482162</td>\n",
       "    </tr>\n",
       "    <tr>\n",
       "      <th>1</th>\n",
       "      <td>100001</td>\n",
       "      <td>7024</td>\n",
       "      <td>4435</td>\n",
       "      <td>-3513</td>\n",
       "      <td>70.157170</td>\n",
       "      <td>40.476039</td>\n",
       "      <td>94.115352</td>\n",
       "    </tr>\n",
       "    <tr>\n",
       "      <th>2</th>\n",
       "      <td>100002</td>\n",
       "      <td>3167</td>\n",
       "      <td>2278</td>\n",
       "      <td>-8355</td>\n",
       "      <td>64.196441</td>\n",
       "      <td>80.324263</td>\n",
       "      <td>234.888843</td>\n",
       "    </tr>\n",
       "    <tr>\n",
       "      <th>3</th>\n",
       "      <td>100003</td>\n",
       "      <td>1934</td>\n",
       "      <td>2766</td>\n",
       "      <td>-8262</td>\n",
       "      <td>338.083002</td>\n",
       "      <td>52.216644</td>\n",
       "      <td>340.116925</td>\n",
       "    </tr>\n",
       "    <tr>\n",
       "      <th>4</th>\n",
       "      <td>100004</td>\n",
       "      <td>3720</td>\n",
       "      <td>2202</td>\n",
       "      <td>-8201</td>\n",
       "      <td>250.500026</td>\n",
       "      <td>13.962981</td>\n",
       "      <td>278.378617</td>\n",
       "    </tr>\n",
       "  </tbody>\n",
       "</table>\n",
       "</div>"
      ],
      "text/plain": [
       "    index  x_s (m)  y_s (m)  z_s (m)  strike (°)    dip (°)    rake (°)\n",
       "0  100000     6161     8368    -8803  125.477915  24.269489  109.482162\n",
       "1  100001     7024     4435    -3513   70.157170  40.476039   94.115352\n",
       "2  100002     3167     2278    -8355   64.196441  80.324263  234.888843\n",
       "3  100003     1934     2766    -8262  338.083002  52.216644  340.116925\n",
       "4  100004     3720     2202    -8201  250.500026  13.962981  278.378617"
      ]
     },
     "execution_count": 24,
     "metadata": {},
     "output_type": "execute_result"
    }
   ],
   "source": [
    "mat_df = pd.read_csv(os.path.join(data_basepath, 'metadata_materials.tab'), sep='\\t')\n",
    "mat_df.head()\n",
    "\n",
    "src_df = pd.read_csv(os.path.join(data_basepath, 'source_properties.tab'), sep='\\t')\n",
    "src_df.head()"
   ]
  },
  {
   "cell_type": "markdown",
   "metadata": {},
   "source": [
    "### Version 1"
   ]
  },
  {
   "cell_type": "markdown",
   "metadata": {},
   "source": [
    "#### Materials\n",
    "30k, all samples"
   ]
  },
  {
   "cell_type": "code",
   "execution_count": 28,
   "metadata": {},
   "outputs": [
    {
     "data": {
      "text/plain": [
       "['materials0-1999.npy',\n",
       " 'materials10000-11999.npy',\n",
       " 'materials12000-13999.npy',\n",
       " 'materials14000-15999.npy',\n",
       " 'materials16000-17999.npy',\n",
       " 'materials18000-19999.npy',\n",
       " 'materials2000-3999.npy',\n",
       " 'materials20000-21999.npy',\n",
       " 'materials22000-23999.npy',\n",
       " 'materials24000-25999.npy',\n",
       " 'materials26000-27999.npy',\n",
       " 'materials28000-29999.npy',\n",
       " 'materials4000-5999.npy',\n",
       " 'materials6000-7999.npy',\n",
       " 'materials8000-9999.npy']"
      ]
     },
     "execution_count": 28,
     "metadata": {},
     "output_type": "execute_result"
    }
   ],
   "source": [
    "data_basepath = r'/cluster/work/math/camlab-data/Wave_HemewS-3D/version1'\n",
    "res = sorted(os.listdir(os.path.join(data_basepath, 'materials')))  # \n",
    "res"
   ]
  },
  {
   "cell_type": "markdown",
   "metadata": {},
   "source": [
    "#### Velocity\n",
    "14k, only subset?"
   ]
  },
  {
   "cell_type": "code",
   "execution_count": 29,
   "metadata": {},
   "outputs": [
    {
     "data": {
      "text/plain": [
       "['velocity0-99.feather',\n",
       " 'velocity100-199.feather',\n",
       " 'velocity1000-1099.feather',\n",
       " 'velocity10000-10099.feather',\n",
       " 'velocity10100-10199.feather',\n",
       " 'velocity10200-10299.feather',\n",
       " 'velocity10300-10399.feather',\n",
       " 'velocity10400-10499.feather',\n",
       " 'velocity10500-10599.feather',\n",
       " 'velocity10600-10699.feather',\n",
       " 'velocity10700-10799.feather',\n",
       " 'velocity10800-10899.feather',\n",
       " 'velocity10900-10999.feather',\n",
       " 'velocity1100-1199.feather',\n",
       " 'velocity11000-11099.feather',\n",
       " 'velocity11100-11199.feather',\n",
       " 'velocity11200-11299.feather',\n",
       " 'velocity11300-11399.feather',\n",
       " 'velocity11400-11499.feather',\n",
       " 'velocity11500-11599.feather',\n",
       " 'velocity11600-11699.feather',\n",
       " 'velocity11700-11799.feather',\n",
       " 'velocity11800-11899.feather',\n",
       " 'velocity11900-11999.feather',\n",
       " 'velocity1200-1299.feather',\n",
       " 'velocity12000-12099.feather',\n",
       " 'velocity12100-12199.feather',\n",
       " 'velocity12200-12299.feather',\n",
       " 'velocity12300-12399.feather',\n",
       " 'velocity12400-12499.feather',\n",
       " 'velocity12500-12599.feather',\n",
       " 'velocity12600-12699.feather',\n",
       " 'velocity12700-12799.feather',\n",
       " 'velocity12800-12899.feather',\n",
       " 'velocity12900-12999.feather',\n",
       " 'velocity1300-1399.feather',\n",
       " 'velocity13000-13099.feather',\n",
       " 'velocity13100-13199.feather',\n",
       " 'velocity13200-13299.feather',\n",
       " 'velocity13300-13399.feather']"
      ]
     },
     "execution_count": 29,
     "metadata": {},
     "output_type": "execute_result"
    }
   ],
   "source": [
    "data_basepath = r'/cluster/work/math/camlab-data/Wave_HemewS-3D/version1'\n",
    "res = sorted(os.listdir(os.path.join(data_basepath, 'velocity')))  # \n",
    "res"
   ]
  },
  {
   "cell_type": "code",
   "execution_count": null,
   "metadata": {},
   "outputs": [],
   "source": []
  }
 ],
 "metadata": {
  "kernelspec": {
   "display_name": "Python (rds-misc)",
   "language": "python",
   "name": "rds-misc"
  },
  "language_info": {
   "codemirror_mode": {
    "name": "ipython",
    "version": 3
   },
   "file_extension": ".py",
   "mimetype": "text/x-python",
   "name": "python",
   "nbconvert_exporter": "python",
   "pygments_lexer": "ipython3",
   "version": "3.11.6"
  }
 },
 "nbformat": 4,
 "nbformat_minor": 2
}
