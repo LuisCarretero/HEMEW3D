{
 "cells": [
  {
   "cell_type": "markdown",
   "id": "81aac0cf-03ab-4be4-9d5c-acdc6186e2fc",
   "metadata": {},
   "source": [
    "*Copyright: Fanny Lehmann (fanny.lehmann@centralesupelec.fr)* <br>\n",
    "*June, 2023*"
   ]
  },
  {
   "cell_type": "code",
   "execution_count": 1,
   "id": "986be716",
   "metadata": {
    "collapsed": false,
    "jupyter": {
     "outputs_hidden": false
    }
   },
   "outputs": [],
   "source": [
    "import os, shutil\n",
    "import pandas as pd\n",
    "import numpy as np\n",
    "import matplotlib.pyplot as plt\n",
    "\n",
    "import simulation.randomfields as rf\n",
    "from simulation.utils import *\n",
    "from globalvars import *\n",
    "\n",
    "PATH_SEM3D = '/home/lehmannf/SEM2021/' # path to your personal installation of SEM3D"
   ]
  },
  {
   "cell_type": "code",
   "execution_count": 12,
   "id": "192868b1",
   "metadata": {
    "tags": []
   },
   "outputs": [],
   "source": [
    "run_name = 'example'\n",
    "path_folder = f'./simulation/{run_name}/' # folder to write all the simulation files"
   ]
  },
  {
   "cell_type": "markdown",
   "id": "b961c20a-4099-438a-8818-d79167560320",
   "metadata": {},
   "source": [
    "This notebook details all the steps needed to write the input files to run a simulation in a cubic domain with several horizontal layers, and random fields in each layer. \n",
    "\n",
    "Notebook summary:\n",
    "1. [Write the mesh files](#section1)\n",
    "2. [Create the mesh](#section2)\n",
    "3. [Add random fluctuations to the material](#Section3)\n",
    "4. [Assemble random materials into a numpy array](#Section4)\n",
    "5. [Run the simulation](#Section5)\n",
    "\n",
    "**This notebook assumes that you have already installed SEM3D and its RandomField module from [github](https://github.com/sem3d/SEM)**"
   ]
  },
  {
   "cell_type": "markdown",
   "id": "70bd7e4e",
   "metadata": {},
   "source": [
    "<a id='section1'></a>\n",
    "# 1. Write the mesh files"
   ]
  },
  {
   "cell_type": "markdown",
   "id": "ebd1b725-c372-45b8-bf9d-3f329128e38e",
   "metadata": {},
   "source": [
    "**After running this section, you should have the following files:**\n",
    "- `mater.in`\n",
    "- `mat.dat`\n",
    "- `mesh.input`\n",
    "- `input.spec`"
   ]
  },
  {
   "cell_type": "markdown",
   "id": "39fdfe99-034a-4420-8299-5ae93ddda207",
   "metadata": {},
   "source": [
    "Choose between 1 and 6 layers (does not include the constant bottom layer)."
   ]
  },
  {
   "cell_type": "code",
   "execution_count": 13,
   "id": "8919e3b4",
   "metadata": {
    "collapsed": false,
    "jupyter": {
     "outputs_hidden": false
    }
   },
   "outputs": [
    {
     "name": "stdout",
     "output_type": "stream",
     "text": [
      "3\n"
     ]
    }
   ],
   "source": [
    "nb_layers = np.random.randint(1, high=7) # does not count the constant bottom layer\n",
    "print(nb_layers)"
   ]
  },
  {
   "cell_type": "markdown",
   "id": "6b7937fb-7e25-483b-ab16-a0f4fa748830",
   "metadata": {},
   "source": [
    "Choose the thickness of each layer by assigning one layer index to each of the 26 vertical points (`temp`). Then, count the number of points inside each layer to determine their respective thickness. There may be empty layers but that is not a problem"
   ]
  },
  {
   "cell_type": "code",
   "execution_count": 14,
   "id": "f4be3732",
   "metadata": {
    "tags": []
   },
   "outputs": [],
   "source": [
    "temp = np.random.randint(nb_layers, size=26)\n",
    "thickness_steps = np.unique(temp, return_counts=True)[1]"
   ]
  },
  {
   "cell_type": "markdown",
   "id": "440ec190-71c6-44f3-950c-b548370f07ac",
   "metadata": {},
   "source": [
    "Assign a random shear-wave velocity (S-wave velocity `Vs`) value to each layer. All layers are solid (`S`). The other material properties are : \n",
    "- compressional wave velocity (P-wave velocity, `Vp`)\n",
    "- density (`Rho`)\n",
    "- attenuation factors for P- and S-waves (`Qk` and `Qmu`)\n",
    "They are all computed from the S-wave velocity. "
   ]
  },
  {
   "cell_type": "code",
   "execution_count": 15,
   "id": "6e6ed584",
   "metadata": {
    "collapsed": false,
    "jupyter": {
     "outputs_hidden": false
    }
   },
   "outputs": [
    {
     "data": {
      "text/html": [
       "<div>\n",
       "<style scoped>\n",
       "    .dataframe tbody tr th:only-of-type {\n",
       "        vertical-align: middle;\n",
       "    }\n",
       "\n",
       "    .dataframe tbody tr th {\n",
       "        vertical-align: top;\n",
       "    }\n",
       "\n",
       "    .dataframe thead th {\n",
       "        text-align: right;\n",
       "    }\n",
       "</style>\n",
       "<table border=\"1\" class=\"dataframe\">\n",
       "  <thead>\n",
       "    <tr style=\"text-align: right;\">\n",
       "      <th></th>\n",
       "      <th>thickness</th>\n",
       "      <th>type</th>\n",
       "      <th>Vs</th>\n",
       "      <th>Vp</th>\n",
       "      <th>Rho</th>\n",
       "      <th>Qk</th>\n",
       "      <th>Qmu</th>\n",
       "      <th>steps</th>\n",
       "    </tr>\n",
       "  </thead>\n",
       "  <tbody>\n",
       "    <tr>\n",
       "      <th>0</th>\n",
       "      <td>2400</td>\n",
       "      <td>S</td>\n",
       "      <td>1944.084579</td>\n",
       "      <td>3304.943784</td>\n",
       "      <td>2284</td>\n",
       "      <td>388</td>\n",
       "      <td>194</td>\n",
       "      <td>8</td>\n",
       "    </tr>\n",
       "    <tr>\n",
       "      <th>1</th>\n",
       "      <td>2700</td>\n",
       "      <td>S</td>\n",
       "      <td>2304.859615</td>\n",
       "      <td>3918.261345</td>\n",
       "      <td>2381</td>\n",
       "      <td>460</td>\n",
       "      <td>230</td>\n",
       "      <td>9</td>\n",
       "    </tr>\n",
       "    <tr>\n",
       "      <th>2</th>\n",
       "      <td>2700</td>\n",
       "      <td>S</td>\n",
       "      <td>2350.243321</td>\n",
       "      <td>3995.413645</td>\n",
       "      <td>2392</td>\n",
       "      <td>470</td>\n",
       "      <td>235</td>\n",
       "      <td>9</td>\n",
       "    </tr>\n",
       "    <tr>\n",
       "      <th>3</th>\n",
       "      <td>1800</td>\n",
       "      <td>S</td>\n",
       "      <td>4500.000000</td>\n",
       "      <td>7650.000000</td>\n",
       "      <td>3170</td>\n",
       "      <td>900</td>\n",
       "      <td>450</td>\n",
       "      <td>6</td>\n",
       "    </tr>\n",
       "  </tbody>\n",
       "</table>\n",
       "</div>"
      ],
      "text/plain": [
       "   thickness type           Vs           Vp   Rho   Qk  Qmu  steps\n",
       "0       2400    S  1944.084579  3304.943784  2284  388  194      8\n",
       "1       2700    S  2304.859615  3918.261345  2381  460  230      9\n",
       "2       2700    S  2350.243321  3995.413645  2392  470  235      9\n",
       "3       1800    S  4500.000000  7650.000000  3170  900  450      6"
      ]
     },
     "execution_count": 15,
     "metadata": {},
     "output_type": "execute_result"
    }
   ],
   "source": [
    "layers = pd.DataFrame({'thickness':np.append(thickness_steps*DX, DEPTH_BOTTOM),\n",
    "                    'type':['S']*(thickness_steps.shape[0]+1),\n",
    "                    'Vs':np.append(1785 + (3214 - 1785) * np.random.rand(nb_layers), VS_MAX),\n",
    "                    })\n",
    "layers.loc[:,'Vp'] = layers.loc[:,'Vs']*1.7\n",
    "layers.loc[:,'Rho'] = ComputeDsfromCp(layers.Vp)\n",
    "layers.loc[:,'Qk'] = ComputeQpfromCpCs(layers.Vp, layers.Vs)\n",
    "layers.loc[:,'Qmu'] = ComputeQsfromCs(layers.Vs)\n",
    "layers.loc[:,'steps'] = np.append(thickness_steps, 6) # number of mesh layers\n",
    "layers = layers.astype({'thickness':'int','Qk':'int','Qmu':'int','Rho':'int','steps':'int'})\n",
    "\n",
    "layers"
   ]
  },
  {
   "cell_type": "markdown",
   "id": "b9c5eb48-73db-46a0-bbb4-4f8ae3fc0aeb",
   "metadata": {},
   "source": [
    "Write the file describing the mesh. The spatial bounds (`XMIN`, `XMAX`, `YMIN`, `YMAX`, `ZMAX`) are given in meters and defined in `globalvars.py`. \n",
    "\n",
    "To simulate a semi-infinite domain, we put absorbing layers on all domain faces excepting the surface one. This behaviour is described by the booleans `PML_sides`, `PML_top`, and `PML_bottom` saying if absorbing boundary is present on the corresponding face or not (PML stands for Perfectly Matched Layer). The number of absorbing layers is given by `PML_layers`. Usually, one PML layer is enough. "
   ]
  },
  {
   "cell_type": "code",
   "execution_count": 16,
   "id": "abf9a3f3-89ad-45dd-bbfa-ed4f6a22c2ce",
   "metadata": {},
   "outputs": [],
   "source": [
    "PML_sides = True\n",
    "PML_top = False\n",
    "PML_bottom = True\n",
    "PML_layers = 1\n",
    "    \n",
    "domain = [XMIN, XMAX, DX, YMIN, YMAX, DY, ZMAX]\n",
    "comments=['xmin','xmax','xstep','ymin','ymax','ystep','zmax']\n",
    "\n",
    "# write the physical bounds\n",
    "with open(path_folder+'mat.dat', 'w') as f:\n",
    "    for line, comment in zip(domain,comments):\n",
    "        f.write(f\"{line}\\t# {comment}\\n\")\n",
    "    f.write(f\"{layers.shape[0]}\\t# nb. of layers\\n\")\n",
    "\n",
    "# write the layers\n",
    "with open(path_folder+'mat.dat', 'a') as f:\n",
    "    for index,row in layers.iterrows():\n",
    "        f.write(f\"{int(row.loc['thickness'])} {int(row.loc['steps'])}\\t# layer {index} (thickness, number of vertical elements)\\n\")\n",
    "\n",
    "# write the PMLs\n",
    "with open(path_folder+'mat.dat', 'a') as f:\n",
    "    f.write(f\"{PML_layers}\\t# Number of PML layers (0=no PML)\\n\")\n",
    "    f.write('2 ')\n",
    "    f.write('1 ' if PML_top else '0 ')\n",
    "    f.write('1 ' if PML_bottom else '0 ')\n",
    "    f.write('1 1 1 1 ' if PML_sides else '0 0 0 0 ')\n",
    "    f.write('\\t# PMLs on up down north south east west\\n')\n",
    "    f.write('1\\t# 8 or 27 control points for elements (1:8, 2:27)\\n')"
   ]
  },
  {
   "cell_type": "markdown",
   "id": "b3774eec-3e8e-4b25-b38d-3db9436ac496",
   "metadata": {},
   "source": [
    "Describe the material properties"
   ]
  },
  {
   "cell_type": "code",
   "execution_count": 17,
   "id": "c5afd75d-478a-4a0b-a162-e222206ccd3d",
   "metadata": {},
   "outputs": [],
   "source": [
    "with open(path_folder+'mater.in', 'w') as f:\n",
    "    f.write(f\"{layers.shape[0]}\\t# number of layers\\n\")\n",
    "\n",
    "    for index,row in layers.iterrows():\n",
    "        f.write(f\"{row.type}\\t{row.Vp}\\t{row.Vs}\\t{row.Rho}\\t{row.Qk}\\t{row.Qmu}\\n\")\n",
    "    f.write('# Material type, Vp, Vs, Rho, Qk, Qmu')"
   ]
  },
  {
   "cell_type": "markdown",
   "id": "6cc8067e-89d9-4707-8ad7-742b5196c317",
   "metadata": {},
   "source": [
    "Write the general configuration file"
   ]
  },
  {
   "cell_type": "code",
   "execution_count": 18,
   "id": "6fa3a7d3-d16c-4893-ac69-18bc32116a1e",
   "metadata": {},
   "outputs": [],
   "source": [
    "with open(path_folder+'input.spec', 'w') as f:\n",
    "    f.write('# -*- mode: perl -*-\\n')\n",
    "    f.write(f'run_name = \"{run_name}\";\\n\\n')\n",
    "    f.write('mesh_file = \"mesh4spec\"; # input mesh file\\n')\n",
    "    f.write('mat_file = \"material.input\";\\n')\n",
    "    f.write('dim=3;\\n')\n",
    "    f.write(f'ngll={NGLL};\\n\\n') # number of GLL quadrature points\n",
    "\n",
    "# damping\n",
    "if np.nanmax(layers[['Qk','Qmu']])==0:\n",
    "    Nsolids=0\n",
    "else:\n",
    "    Nsolids=3\n",
    "\n",
    "with open(path_folder+'input.spec', 'a') as f:\n",
    "    f.write('amortissement {\\n')\n",
    "    f.write(f'\\tnsolids = {Nsolids};')\n",
    "    f.write('\\t# number of solids for attenuation (0 if no attenuation)\\n')\n",
    "    f.write('\\tatn_band = 10  0.05;\\t# attenuation period band\\n')\n",
    "    f.write('\\tatn_period = 0.2;\\t# model period\\n')\n",
    "    f.write('};\\n\\n')"
   ]
  },
  {
   "cell_type": "markdown",
   "id": "39bb06e7-9509-4f24-92e1-400642ad2914",
   "metadata": {},
   "source": [
    "<a id='section2'></a>\n",
    "# 2. Create the mesh"
   ]
  },
  {
   "cell_type": "markdown",
   "id": "a6b20ad6-1361-4fb2-a052-4b9ffcef369f",
   "metadata": {},
   "source": [
    "In `SEM3D` code, there is a single function to create the mesh and partition it over processors. The file `mesh.input` gives the number of processors to partition the mesh. This must be equal to the number of processors used to run the simulation later. "
   ]
  },
  {
   "cell_type": "code",
   "execution_count": 19,
   "id": "486c3437-36cf-43bc-a7fe-0fe3e8abddd0",
   "metadata": {},
   "outputs": [],
   "source": [
    "Nprocessors = 1\n",
    "with open(path_folder+'/mesh.input', 'w') as f:\n",
    "    f.write(f'{Nprocessors}\\t# number of processors\\n')\n",
    "    f.write('1\\t# type of mesh: 1 = on the fly\\n')"
   ]
  },
  {
   "cell_type": "markdown",
   "id": "c78bd0cc-7f3a-44d5-8abb-41cda7af52ad",
   "metadata": {},
   "source": [
    "The command line to create the mesh in `SEM_BUILD/MESH/mesher < mesh.input`. It can be executed from the terminal, in a bash file on a computing cluster, or directly in the notebook for small computation. "
   ]
  },
  {
   "cell_type": "code",
   "execution_count": 20,
   "id": "eef02c5b",
   "metadata": {
    "scrolled": true,
    "tags": []
   },
   "outputs": [
    {
     "name": "stdout",
     "output_type": "stream",
     "text": [
      "-------------------------------------------------\n",
      "-------------------------------------------------\n",
      "-----                                       -----\n",
      "----- Construction of input files for SEM3D -----\n",
      "-----                                       -----\n",
      "-------------------------------------------------\n",
      "-------------------------------------------------\n",
      "\n",
      "    DEBUG MODE    \n",
      "\n",
      "\n",
      "   --> How many procs for the run ?\n",
      "             1 processor(s)\n",
      " \n",
      "\n",
      "  --> Which Initial Mesh?\n",
      "      1- On the fly\n",
      "      2- Abaqus from Cubit\n",
      "      3- Ideas (.unv) files\n",
      "      4- HDF5 Hex8 files\n",
      "      5- Earth Chunk\n",
      "      6- Full earth\n",
      "            Your choice is 1 \n",
      " \n",
      "\n",
      "Configuration SEM\n",
      "Schema en acceleration: 0\n",
      "Schema en vitesse: 0\n",
      "Duree simulation: 0.000000\n",
      "Newmark: alpha=0.000000 beta=0.000000 gamma=0.000000\n",
      "Fichier maillage: 'mesh4spec'\n",
      "Modele : 0\n",
      "Anisotropy : 0\n",
      "Fichier materiau: 'material.input'\n",
      "Sauv. Traces : 0\n",
      "Sauv. Snap   : 0\n",
      "Fichier stations: '(null)'\n",
      "Snap interval : 0.000000\n",
      "Snap selection : (nil)\n",
      "out variables : (0,0,0,1,1,1,1,0,0,0,0,0,0,0)\n",
      "Nonlinear analysis : 0\n",
      "Mirror : use 0\n",
      "Reading Materials\n",
      "mat= 0 : t=S vp=3304.943784 vs=1944.084579 rho=2284.000000 Qp=388.000000 Qmu=194.000000\n",
      "mat= 1 : t=S vp=3918.261345 vs=2304.859615 rho=2381.000000 Qp=460.000000 Qmu=230.000000\n",
      "mat= 2 : t=S vp=3995.413645 vs=2350.243321 rho=2392.000000 Qp=470.000000 Qmu=235.000000\n",
      "mat= 3 : t=S vp=7650.000000 vs=4500.000000 rho=3170.000000 Qp=900.000000 Qmu=450.000000\n",
      "\n",
      "Reading PML descriptions:\n",
      "Warning no shell flag\n",
      "Warning no mirror flag\n",
      "Creating grid mesh 34 x 34 x 33 with linear elements\n",
      "mat=4 layer = 0, idx=36 pmlnum=-1\n",
      "xp=0.000000 xw=-300.000000 ; yp=0.000000 yw=-300.000000 ; zp=0.000000 zw=0.000000\n",
      "mat=5 layer = 0, idx=4 pmlnum=-1\n",
      "xp=0.000000 xw=0.000000 ; yp=0.000000 yw=-300.000000 ; zp=0.000000 zw=0.000000\n",
      "mat=6 layer = 0, idx=20 pmlnum=-1\n",
      "xp=9600.000000 xw=300.000000 ; yp=0.000000 yw=-300.000000 ; zp=0.000000 zw=0.000000\n",
      "mat=7 layer = 0, idx=32 pmlnum=-1\n",
      "xp=0.000000 xw=-300.000000 ; yp=0.000000 yw=0.000000 ; zp=0.000000 zw=0.000000\n",
      "mat=8 layer = 0, idx=16 pmlnum=-1\n",
      "xp=9600.000000 xw=300.000000 ; yp=0.000000 yw=0.000000 ; zp=0.000000 zw=0.000000\n",
      "mat=9 layer = 0, idx=40 pmlnum=-1\n",
      "xp=0.000000 xw=-300.000000 ; yp=9600.000000 yw=300.000000 ; zp=0.000000 zw=0.000000\n",
      "mat=10 layer = 0, idx=8 pmlnum=-1\n",
      "xp=0.000000 xw=0.000000 ; yp=9600.000000 yw=300.000000 ; zp=0.000000 zw=0.000000\n",
      "mat=11 layer = 0, idx=24 pmlnum=-1\n",
      "xp=9600.000000 xw=300.000000 ; yp=9600.000000 yw=300.000000 ; zp=0.000000 zw=0.000000\n",
      "mat=12 layer = 1, idx=36 pmlnum=-1\n",
      "xp=0.000000 xw=-300.000000 ; yp=0.000000 yw=-300.000000 ; zp=0.000000 zw=0.000000\n",
      "mat=13 layer = 1, idx=4 pmlnum=-1\n",
      "xp=0.000000 xw=0.000000 ; yp=0.000000 yw=-300.000000 ; zp=0.000000 zw=0.000000\n",
      "mat=14 layer = 1, idx=20 pmlnum=-1\n",
      "xp=9600.000000 xw=300.000000 ; yp=0.000000 yw=-300.000000 ; zp=0.000000 zw=0.000000\n",
      "mat=15 layer = 1, idx=32 pmlnum=-1\n",
      "xp=0.000000 xw=-300.000000 ; yp=0.000000 yw=0.000000 ; zp=0.000000 zw=0.000000\n",
      "mat=16 layer = 1, idx=16 pmlnum=-1\n",
      "xp=9600.000000 xw=300.000000 ; yp=0.000000 yw=0.000000 ; zp=0.000000 zw=0.000000\n",
      "mat=17 layer = 1, idx=40 pmlnum=-1\n",
      "xp=0.000000 xw=-300.000000 ; yp=9600.000000 yw=300.000000 ; zp=0.000000 zw=0.000000\n",
      "mat=18 layer = 1, idx=8 pmlnum=-1\n",
      "xp=0.000000 xw=0.000000 ; yp=9600.000000 yw=300.000000 ; zp=0.000000 zw=0.000000\n",
      "mat=19 layer = 1, idx=24 pmlnum=-1\n",
      "xp=9600.000000 xw=300.000000 ; yp=9600.000000 yw=300.000000 ; zp=0.000000 zw=0.000000\n",
      "mat=20 layer = 2, idx=36 pmlnum=-1\n",
      "xp=0.000000 xw=-300.000000 ; yp=0.000000 yw=-300.000000 ; zp=0.000000 zw=0.000000\n",
      "mat=21 layer = 2, idx=4 pmlnum=-1\n",
      "xp=0.000000 xw=0.000000 ; yp=0.000000 yw=-300.000000 ; zp=0.000000 zw=0.000000\n",
      "mat=22 layer = 2, idx=20 pmlnum=-1\n",
      "xp=9600.000000 xw=300.000000 ; yp=0.000000 yw=-300.000000 ; zp=0.000000 zw=0.000000\n",
      "mat=23 layer = 2, idx=32 pmlnum=-1\n",
      "xp=0.000000 xw=-300.000000 ; yp=0.000000 yw=0.000000 ; zp=0.000000 zw=0.000000\n",
      "mat=24 layer = 2, idx=16 pmlnum=-1\n",
      "xp=9600.000000 xw=300.000000 ; yp=0.000000 yw=0.000000 ; zp=0.000000 zw=0.000000\n",
      "mat=25 layer = 2, idx=40 pmlnum=-1\n",
      "xp=0.000000 xw=-300.000000 ; yp=9600.000000 yw=300.000000 ; zp=0.000000 zw=0.000000\n",
      "mat=26 layer = 2, idx=8 pmlnum=-1\n",
      "xp=0.000000 xw=0.000000 ; yp=9600.000000 yw=300.000000 ; zp=0.000000 zw=0.000000\n",
      "mat=27 layer = 2, idx=24 pmlnum=-1\n",
      "xp=9600.000000 xw=300.000000 ; yp=9600.000000 yw=300.000000 ; zp=0.000000 zw=0.000000\n",
      "mat=28 layer = 3, idx=36 pmlnum=-1\n",
      "xp=0.000000 xw=-300.000000 ; yp=0.000000 yw=-300.000000 ; zp=0.000000 zw=0.000000\n",
      "mat=29 layer = 3, idx=4 pmlnum=-1\n",
      "xp=0.000000 xw=0.000000 ; yp=0.000000 yw=-300.000000 ; zp=0.000000 zw=0.000000\n",
      "mat=30 layer = 3, idx=20 pmlnum=-1\n",
      "xp=9600.000000 xw=300.000000 ; yp=0.000000 yw=-300.000000 ; zp=0.000000 zw=0.000000\n",
      "mat=31 layer = 3, idx=32 pmlnum=-1\n",
      "xp=0.000000 xw=-300.000000 ; yp=0.000000 yw=0.000000 ; zp=0.000000 zw=0.000000\n",
      "mat=32 layer = 3, idx=16 pmlnum=-1\n",
      "xp=9600.000000 xw=300.000000 ; yp=0.000000 yw=0.000000 ; zp=0.000000 zw=0.000000\n",
      "mat=33 layer = 3, idx=40 pmlnum=-1\n",
      "xp=0.000000 xw=-300.000000 ; yp=9600.000000 yw=300.000000 ; zp=0.000000 zw=0.000000\n",
      "mat=34 layer = 3, idx=8 pmlnum=-1\n",
      "xp=0.000000 xw=0.000000 ; yp=9600.000000 yw=300.000000 ; zp=0.000000 zw=0.000000\n",
      "mat=35 layer = 3, idx=24 pmlnum=-1\n",
      "xp=9600.000000 xw=300.000000 ; yp=9600.000000 yw=300.000000 ; zp=0.000000 zw=0.000000\n",
      "mat=36 layer = 3, idx=37 pmlnum=-1\n",
      "xp=0.000000 xw=-300.000000 ; yp=0.000000 yw=-300.000000 ; zp=-9600.000000 zw=-300.000000\n",
      "mat=37 layer = 3, idx=5 pmlnum=-1\n",
      "xp=0.000000 xw=0.000000 ; yp=0.000000 yw=-300.000000 ; zp=-9600.000000 zw=-300.000000\n",
      "mat=38 layer = 3, idx=21 pmlnum=-1\n",
      "xp=9600.000000 xw=300.000000 ; yp=0.000000 yw=-300.000000 ; zp=-9600.000000 zw=-300.000000\n",
      "mat=39 layer = 3, idx=33 pmlnum=-1\n",
      "xp=0.000000 xw=-300.000000 ; yp=0.000000 yw=0.000000 ; zp=-9600.000000 zw=-300.000000\n",
      "mat=40 layer = 3, idx=1 pmlnum=-1\n",
      "xp=0.000000 xw=0.000000 ; yp=0.000000 yw=0.000000 ; zp=-9600.000000 zw=-300.000000\n",
      "mat=41 layer = 3, idx=17 pmlnum=-1\n",
      "xp=9600.000000 xw=300.000000 ; yp=0.000000 yw=0.000000 ; zp=-9600.000000 zw=-300.000000\n",
      "mat=42 layer = 3, idx=41 pmlnum=-1\n",
      "xp=0.000000 xw=-300.000000 ; yp=9600.000000 yw=300.000000 ; zp=-9600.000000 zw=-300.000000\n",
      "mat=43 layer = 3, idx=9 pmlnum=-1\n",
      "xp=0.000000 xw=0.000000 ; yp=9600.000000 yw=300.000000 ; zp=-9600.000000 zw=-300.000000\n",
      "mat=44 layer = 3, idx=25 pmlnum=-1\n",
      "xp=9600.000000 xw=300.000000 ; yp=9600.000000 yw=300.000000 ; zp=-9600.000000 zw=-300.000000\n",
      "Writing MaterialsFound 5644 free faces\n",
      "\n",
      "Created 122964 facets\n",
      "0000 : number of elements = 38148\n",
      "0000 : number of elements = (tot=38148/fpml=0/spml=5380/fl=0/sol=32768)\n",
      "0000 : number of faces    = (tot=122964/fpml=0/spml=21588/fl=0/sol=101376)\n",
      "0000 : number of edges    = (tot=131649/fpml=0/spml=27105/fl=0/sol=104544)\n",
      "0000 : number of vertices = (tot=46835/fpml=0/spml=10898/fl=0/sol=35937)\n",
      "0000 : number of mirror points = 0\n",
      "processor with empty mirror: 0\n"
     ]
    }
   ],
   "source": [
    "current_dir = os.getcwd()\n",
    "os.chdir(path_folder)\n",
    "\n",
    "output = os.system(PATH_SEM3D + 'SEM_BUILD/MESH/mesher < mesh.input')\n",
    "if output!=0:\n",
    "    os.chdir(current_dir)\n",
    "    raise Exception('The mesher could not run \"'+run_name+'\"')\n",
    "\n",
    "os.chdir(current_dir)"
   ]
  },
  {
   "cell_type": "markdown",
   "id": "50a9790e-adb2-4f6a-891a-2d72d0c1c46c",
   "metadata": {},
   "source": [
    "Move all mesher files (starting by `mesh4spec`) into a folder called `sem` (do not change the name of this folder). "
   ]
  },
  {
   "cell_type": "code",
   "execution_count": 21,
   "id": "d4019eeb-486c-4c19-9c59-06709ca79b3c",
   "metadata": {},
   "outputs": [],
   "source": [
    "current_dir = os.getcwd()\n",
    "os.chdir(path_folder)\n",
    "\n",
    "if not 'sem' in os.listdir():\n",
    "    os.mkdir('sem')\n",
    "    \n",
    "output = os.system('mv mesh4spec* sem')\n",
    "    \n",
    "os.chdir(current_dir)"
   ]
  },
  {
   "cell_type": "markdown",
   "id": "99d525f8",
   "metadata": {},
   "source": [
    "<a id='section3'></a>\n",
    "# 3. Add random fluctuations to the material"
   ]
  },
  {
   "cell_type": "markdown",
   "id": "cb368b42",
   "metadata": {},
   "source": [
    "Randomly choose the correlation lengths along x, y, and z directions. Choose the coefficient of variation according to a normal distribution and ensure a positive value. Parameters are different in each layer. "
   ]
  },
  {
   "cell_type": "code",
   "execution_count": 22,
   "id": "b080456f-4656-4ddb-86d2-6cf21015212e",
   "metadata": {},
   "outputs": [
    {
     "name": "stdout",
     "output_type": "stream",
     "text": [
      "Chosen correlation length for x: [4500 3000 3000], y: [6000 4500 6000], z: [4500 1500 4500]\n",
      "Chosen coefficient of variation: [0.26436759 0.10200999 0.012179  ]\n"
     ]
    }
   ],
   "source": [
    "Nrandom_layers = layers.shape[0]-1 # all layers except the bottom one have fluctuations\n",
    "random_layers = np.arange(Nrandom_layers) # indices of random layers\n",
    "corr_length_x = np.random.choice([1500, 3000, 4500, 6000], size = Nrandom_layers)\n",
    "corr_length_y = np.random.choice([1500, 3000, 4500, 6000], size = Nrandom_layers)\n",
    "corr_length_z = np.random.choice([1500, 3000, 4500, 6000], size = Nrandom_layers)\n",
    "\n",
    "print(f'Chosen correlation length for x: {corr_length_x}, y: {corr_length_y}, z: {corr_length_z}')\n",
    "coef_var = np.abs(np.random.randn(Nrandom_layers)*0.1+0.2) # N(0.2, 0.1)\n",
    "print(f'Chosen coefficient of variation: {coef_var}')"
   ]
  },
  {
   "cell_type": "markdown",
   "id": "6fb31581-6b29-4843-8189-370ca91e7e02",
   "metadata": {},
   "source": [
    "The random generator is different for each layer. It is initialized at the beginning and incremented for each layer. "
   ]
  },
  {
   "cell_type": "code",
   "execution_count": 23,
   "id": "856fb189-ec77-44e8-8f90-a65edd619f55",
   "metadata": {},
   "outputs": [],
   "source": [
    "seed = np.random.randint(0, 1e5) "
   ]
  },
  {
   "cell_type": "markdown",
   "id": "8d92d779-aca5-458e-a73c-c11421963de6",
   "metadata": {},
   "source": [
    "Assign random properties to Vs."
   ]
  },
  {
   "cell_type": "code",
   "execution_count": 24,
   "id": "cbb76e41-86c5-473c-b0c0-beedf372377b",
   "metadata": {},
   "outputs": [],
   "source": [
    "correlation_mode = 3 # 1= Gaussian, 2=Exponential, 3=Von Karman\n",
    "marginal = 2 # 1 = Gaussian, 2 = LogNormal\n",
    "\n",
    "with open(path_folder+'random.spec', 'w') as f:\n",
    "    f.write('# Number of random materials\\n')\n",
    "    f.write(f'{Nrandom_layers}\\n')\n",
    "\n",
    "    for l, cv, cx, cy, cz in zip(random_layers, coef_var, corr_length_x, corr_length_y, corr_length_z):\n",
    "        f.write('# Material number\\n')\n",
    "        f.write(f'{l}\\n')\n",
    "        f.write('# Vp_Vs_Rho_flag: Calculate Lambda, Kappa, Mu and Density average from Vp Vs Density (0 = false, 1 = true) \\n')\n",
    "        f.write('# If previous option = 1, give Vp, Vs and Density on the same line \\n')\n",
    "        f.write(f\"0\\t{layers.loc[l,'Vp']}\\t{layers.loc[l,'Vs']}\\t{layers.loc[l,'Rho']}\\n\")\n",
    "        f.write('# Number of properties\\n')\n",
    "        f.write(f\"1 \\n\")\n",
    "        f.write('# Property_Name\\tavg\\tcorrMod\\tcorrL_x\\tcorrL_y\\tcorrL_z\\tmargiF\\tCV\\tseedStart\\n')\n",
    "        \n",
    "        f.write(f'\"Vs\"\\t{layers.loc[l,\"Vs\"]}\\t{correlation_mode}\\t')\n",
    "        f.write(f'{cx}\\t{cy}\\t{cz}\\t{marginal}\\t{cv}\\t{seed}\\n')\n",
    "        \n",
    "        seed += 1"
   ]
  },
  {
   "cell_type": "markdown",
   "id": "8b9b9934",
   "metadata": {},
   "source": [
    "The random field computation is very light, it can be run on a local computer. "
   ]
  },
  {
   "cell_type": "code",
   "execution_count": 25,
   "id": "c299512c",
   "metadata": {
    "collapsed": true,
    "jupyter": {
     "outputs_hidden": true
    },
    "tags": []
   },
   "outputs": [
    {
     "name": "stdout",
     "output_type": "stream",
     "text": [
      " IPT_Temp%rang =            0\n",
      "\n",
      " ****************************************************************************\n",
      " ****************************************************************************\n",
      " ****************************************************************************\n",
      " ************************                             ***********************\n",
      " ************************  RANDOM FIELD LIBRARY TEST  ***********************\n",
      " ************************                             ***********************\n",
      " ****************************************************************************\n",
      " ****************************************************************************\n",
      " ****************************************************************************\n",
      "\n",
      " -> MPI_communications started\n",
      "          running on: \n",
      "/home/lehmannf/HEMEW3D/simulation/example\n",
      "          nb_procs    =            1\n",
      "          outputStyle =            1\n",
      " -> Reading inputs\n",
      "      -> Reading Main Input\n",
      "       ./random.spec exist?  T\n",
      "      SEM files lecture\n",
      " nMat =            3\n",
      " size(prop) =            3\n",
      " buffer = 0      -96.000000      -96.000000    -2424.000000     9696.000000     9696.000000       24.000000      0\n",
      "mkdir: création du répertoire './mat'\n",
      "mkdir: création du répertoire './mat/input'\n",
      " absPath = /home/lehmannf/HEMEW3D/simulation/example\n",
      " mesh_path = ./mat/input/Mat_0_Vs_mesh                                                                                                                                                                                                                                                                                                                                                                                                                                                                                                                                                                                                                                                                                                                                                                                                                                                                                                                                                                                                                                       \n",
      " gen_path = ./mat/input/Mat_0_Vs_gen                                                                                                                                                                                                                                                                                                                                                                                                                                                                                                                                                                                                                                                                                                                                                                                                                                                                                                                                                                                                                                        \n",
      " mesh_path = ./mat/input/Mat_1_Vs_mesh                                                                                                                                                                                                                                                                                                                                                                                                                                                                                                                                                                                                                                                                                                                                                                                                                                                                                                                                                                                                                                       \n",
      " gen_path = ./mat/input/Mat_1_Vs_gen                                                                                                                                                                                                                                                                                                                                                                                                                                                                                                                                                                                                                                                                                                                                                                                                                                                                                                                                                                                                                                        \n",
      " mesh_path = ./mat/input/Mat_2_Vs_mesh                                                                                                                                                                                                                                                                                                                                                                                                                                                                                                                                                                                                                                                                                                                                                                                                                                                                                                                                                                                                                                       \n",
      " gen_path = ./mat/input/Mat_2_Vs_gen                                                                                                                                                                                                                                                                                                                                                                                                                                                                                                                                                                                                                                                                                                                                                                                                                                                                                                                                                                                                                                        \n",
      " AFTER 5\n",
      "      END of SEM main_input generation\n",
      " -> Initialize Folders\n",
      " -> Setting folder path\n",
      "       IPT_Temp%timeFolder =            0\n",
      " IFDEF MAKELOG NOT DEFINED\n",
      "      SEM generation\n",
      "       ./random.spec exist?  T\n",
      "       path = ./RF_main_input\n",
      "       Native lecture\n",
      "      -> Reading Mesh Input\n",
      "    Mesh automatic\n",
      "      -> Reading Generation Input\n",
      " IPT%nFields will be decided automatically\n",
      " nBlocks (ideal) =            1           1           1\n",
      " vol_surf_factor =   0.16666666666666666     \n",
      " IPT%nFields =            1           1           1\n",
      "      -> Validating Input (IPT_Temp)\n",
      " INPUT------------------------------------------------------------\n",
      "   IPT_Temp\n",
      "  \n",
      "  log_ID =           -1\n",
      "  rang =            0\n",
      "  init =  F\n",
      "  comm =            0\n",
      "  \n",
      "  MESH -----------------\n",
      "  nDim_mesh =            3\n",
      "  meshMod =            1\n",
      "  xMaxGlob_in =    9696.0000000000000        9696.0000000000000        24.000000000000000     \n",
      "  xMinGlob_in =   -96.000000000000000       -96.000000000000000       -2424.0000000000000     \n",
      "  xMaxGlob =    9696.0000000000000        9696.0000000000000        24.000000000000000     \n",
      "  xMinGlob =   -96.000000000000000       -96.000000000000000       -2424.0000000000000     \n",
      "  pointsPerCorrL =            5           5           5\n",
      "  unv =  F\n",
      "  \n",
      "  GENERATION -----------------\n",
      "  nDim_gen =            3\n",
      "  fieldAvg =    1944.0845786743957     \n",
      "  fieldVar =    264147.63265932858     \n",
      "  overlap_in =    5.0000000000000000        5.0000000000000000        5.0000000000000000     \n",
      "  corrL_in =    4500.0000000000000        6000.0000000000000        4500.0000000000000     \n",
      "  overlap =   -1.0000000000000000       -1.0000000000000000       -1.0000000000000000     \n",
      "  corrL =   -1.0000000000000000       -1.0000000000000000       -1.0000000000000000     \n",
      "  corrMod =            3\n",
      "  margiFirst =            2\n",
      "  method =            4\n",
      "  Nmc =            1\n",
      "  seedStart =        55808\n",
      "  nFields =            1           1           1\n",
      "  \n",
      "  \n",
      "  PROCESS -----------------\n",
      "  xStep      =    6.9385700715291136E-310   6.9385700715291136E-310   1.1659949241853418E-321\n",
      "  stepProc   =    6.9385700715275326E-310   6.9385700715275326E-310   1.0375378562666177E-322\n",
      "  procExtent =    0.0000000000000000        0.0000000000000000        1.5810100666919889E-322\n",
      "  procExtent =    0.0000000000000000        0.0000000000000000        1.5810100666919889E-322\n",
      "  \n",
      "  \n",
      " -> Initializing Input (IPT)\n",
      "mkdir: création du répertoire '/home/lehmannf/HEMEW3D/simulation/example/./mat/xmf'\n",
      "mkdir: création du répertoire '/home/lehmannf/HEMEW3D/simulation/example/./mat/h5'\n",
      " -> Processing INPUTS---------------------------\n",
      " INPUT------------------------------------------------------------\n",
      "   IPT\n",
      "  \n",
      "  log_ID =           -1\n",
      "  rang =            0\n",
      "  init =  F\n",
      "  comm =            0\n",
      "  \n",
      "  MESH -----------------\n",
      "  nDim_mesh =            3\n",
      "  meshMod =            1\n",
      "  xMaxGlob_in =    9696.0000000000000        9696.0000000000000        24.000000000000000     \n",
      "  xMinGlob_in =   -96.000000000000000       -96.000000000000000       -2424.0000000000000     \n",
      "  xMaxGlob =    9900.0000000000000        10800.000000000000        900.00000000000000     \n",
      "  xMinGlob =   -900.00000000000000       -1200.0000000000000       -2700.0000000000000     \n",
      "  pointsPerCorrL =            5           5           5\n",
      "  unv =  F\n",
      "  \n",
      "  GENERATION -----------------\n",
      "  nDim_gen =            3\n",
      "  fieldAvg =    1944.0845786743957     \n",
      "  fieldVar =    264147.63265932858     \n",
      "  overlap_in =    5.0000000000000000        5.0000000000000000        5.0000000000000000     \n",
      "  corrL_in =    4500.0000000000000        6000.0000000000000        4500.0000000000000     \n",
      "  overlap =    0.0000000000000000        0.0000000000000000        0.0000000000000000     \n",
      "  corrL =    4500.0000000000000        6000.0000000000000        4500.0000000000000     \n",
      "  corrMod =            3\n",
      "  margiFirst =            2\n",
      "  method =            4\n",
      "  Nmc =            1\n",
      "  seedStart =        55808\n",
      "  nFields =            1           1           1\n",
      "  \n",
      "  \n",
      "  PROCESS -----------------\n",
      "  xStep      =    900.00000000000000        1200.0000000000000        900.00000000000000     \n",
      "  stepProc   =    10800.000000000000        12000.000000000000        3600.0000000000000     \n",
      "  procExtent =    10800.000000000000        12000.000000000000        3600.0000000000000     \n",
      "  procExtent =    10800.000000000000        12000.000000000000        3600.0000000000000     \n",
      "   \n",
      "  Inside 'build_random_field'\n",
      "   \n",
      " -> Inside 'build_random_field---------------------------rang =            0\n",
      " nSamplesInProc =            1\n",
      " xNStep_Proc    =           13          11           5\n",
      " xNTotal_Proc   =                   715\n",
      " sum_SamplesInProc =            1\n",
      " IPT%nTotalFields  =            1\n",
      " Check =  T\n",
      " Max Coord =    9900.0000000000000        10800.000000000000        900.00000000000000     \n",
      "  \n",
      " -> PREPARING INTERNAL LOCALIZATION----------------------------------------\n",
      "  \n",
      " -> SAMPLING----------------------------------------\n",
      " -> Gen_Group            0  making Field            1\n",
      " -> SINGLE REALIZATION proc            0\n",
      " -> VALID proc            0\n",
      " -> Calculating Sample proc            0\n",
      " -> FFT            0\n",
      " FFT\n",
      " In rang            0  L=                   13 M=                   11 N=                    5 local_LastDim=                    5\n",
      " WARNING, local_LastDim =                     5 problems have been observed when a FFTW slab is this thin\n",
      " correlation length   1.0000000000000000        1.0000000000000000        1.0000000000000000     \n",
      " size(RDF%kPoints,2) =          715\n",
      " RDF%comm =            5\n",
      " Calculating FFT In rang            0\n",
      " shape(data_real_3D) =           13          11           5\n",
      " AFTER Calculating FFT In rang            0\n",
      " -> AFTER FFT            0\n",
      " -> Gathering Sample proc            0\n",
      " -> AFTER SAMPLING proc            0\n",
      "  \n",
      " -> EXTERNAL LOCALIZATION----------------------------------------\n",
      " NO\n",
      " -> TRANFORMING AND WRITING OUTPUT--------------------\n",
      "     IPT%outputFolder = /home/lehmannf/HEMEW3D/simulation/example/./mat\n",
      "     IPT%outputName   = Mat_0_Vs\n",
      "     BBoxPath = /home/lehmannf/HEMEW3D/simulation/example/./mat/h5/Mat_0_Vs.h5\n",
      " BBoxPath = /home/lehmannf/HEMEW3D/simulation/example/./mat/h5/Mat_0_Vs.h5\n",
      " fileExist =  T\n",
      " -> WRITING ATTRIBUTES--------------------\n",
      " PATH: /home/lehmannf/HEMEW3D/simulation/example\n",
      " OUTPUT HDF5 ON: /home/lehmannf/HEMEW3D/simulation/example/./mat/h5/Mat_0_Vs.h5\n",
      "     file_mb_size:    9.6206665039062500E-003\n",
      " OUTPUT XMF  ON: /home/lehmannf/HEMEW3D/simulation/example/./mat/xmf/Mat_0_Vs.xmf\n",
      " \n",
      " \n",
      " AVERAGE TIMES (WALL)------------------------ \n",
      " Reading Inputs        =    7.1377277999999933E-002\n",
      " Pre Organization      =    1.0938214003544999E-002\n",
      " Generation            =    1.3432943997031543E-002\n",
      " Localization Ext      =    3.8851001590956002E-005\n",
      " Writing Normalization =    4.3742998968809843E-005\n",
      " Transforming          =    1.0431900227558799E-004\n",
      " Writing Files         =    8.3764064998831600E-002\n",
      " UNV Interpolation     =    3.6266440001782030E-003\n",
      " \n",
      " \n",
      " ---------------------------------------------------------------------\n",
      " -----------------END RANDOM FIELD LIBRARY TEST-----------------------\n",
      " ---------------------------------------------------------------------\n",
      " \n",
      "      -> Reading Mesh Input\n",
      "    Mesh automatic\n",
      "      -> Reading Generation Input\n",
      " IPT%nFields will be decided automatically\n",
      " nBlocks (ideal) =            1           1           1\n",
      " vol_surf_factor =   0.16666666666666666     \n",
      " IPT%nFields =            1           1           1\n",
      "      -> Validating Input (IPT_Temp)\n",
      " INPUT------------------------------------------------------------\n",
      "   IPT_Temp\n",
      "  \n",
      "  log_ID =           -1\n",
      "  rang =            0\n",
      "  init =  F\n",
      "  comm =            0\n",
      "  \n",
      "  MESH -----------------\n",
      "  nDim_mesh =            3\n",
      "  meshMod =            1\n",
      "  xMaxGlob_in =    9696.0000000000000        9696.0000000000000       -2373.0000000000000     \n",
      "  xMinGlob_in =   -96.000000000000000       -96.000000000000000       -5127.0000000000000     \n",
      "  xMaxGlob =    9696.0000000000000        9696.0000000000000       -2373.0000000000000     \n",
      "  xMinGlob =   -96.000000000000000       -96.000000000000000       -5127.0000000000000     \n",
      "  pointsPerCorrL =            5           5           5\n",
      "  unv =  F\n",
      "  \n",
      "  GENERATION -----------------\n",
      "  nDim_gen =            3\n",
      "  fieldAvg =    2304.8596147537869     \n",
      "  fieldVar =    55280.809072593045     \n",
      "  overlap_in =    5.0000000000000000        5.0000000000000000        5.0000000000000000     \n",
      "  corrL_in =    3000.0000000000000        4500.0000000000000        1500.0000000000000     \n",
      "  overlap =   -1.0000000000000000       -1.0000000000000000       -1.0000000000000000     \n",
      "  corrL =   -1.0000000000000000       -1.0000000000000000       -1.0000000000000000     \n",
      "  corrMod =            3\n",
      "  margiFirst =            2\n",
      "  method =            4\n",
      "  Nmc =            1\n",
      "  seedStart =        55809\n",
      "  nFields =            1           1           1\n",
      "  \n",
      "  \n",
      "  PROCESS -----------------\n",
      "  xStep      =    6.9385700715291136E-310   6.9385700715291136E-310   1.1659949241853418E-321\n",
      "  stepProc   =    6.9385700715275326E-310   6.9385700715275326E-310   1.0375378562666177E-322\n",
      "  procExtent =    0.0000000000000000        0.0000000000000000        1.5810100666919889E-322\n",
      "  procExtent =    0.0000000000000000        0.0000000000000000        1.5810100666919889E-322\n",
      "  \n",
      "  \n",
      " -> Initializing Input (IPT)\n",
      " -> Processing INPUTS---------------------------\n",
      " INPUT------------------------------------------------------------\n",
      "   IPT\n",
      "  \n",
      "  log_ID =           -1\n",
      "  rang =            0\n",
      "  init =  F\n",
      "  comm =            0\n",
      "  \n",
      "  MESH -----------------\n",
      "  nDim_mesh =            3\n",
      "  meshMod =            1\n",
      "  xMaxGlob_in =    9696.0000000000000        9696.0000000000000       -2373.0000000000000     \n",
      "  xMinGlob_in =   -96.000000000000000       -96.000000000000000       -5127.0000000000000     \n",
      "  xMaxGlob =    10200.000000000000        9900.0000000000000       -2100.0000000000000     \n",
      "  xMinGlob =   -600.00000000000000       -900.00000000000000       -5400.0000000000000     \n",
      "  pointsPerCorrL =            5           5           5\n",
      "  unv =  F\n",
      "  \n",
      "  GENERATION -----------------\n",
      "  nDim_gen =            3\n",
      "  fieldAvg =    2304.8596147537869     \n",
      "  fieldVar =    55280.809072593045     \n",
      "  overlap_in =    5.0000000000000000        5.0000000000000000        5.0000000000000000     \n",
      "  corrL_in =    3000.0000000000000        4500.0000000000000        1500.0000000000000     \n",
      "  overlap =    0.0000000000000000        0.0000000000000000        0.0000000000000000     \n",
      "  corrL =    3000.0000000000000        4500.0000000000000        1500.0000000000000     \n",
      "  corrMod =            3\n",
      "  margiFirst =            2\n",
      "  method =            4\n",
      "  Nmc =            1\n",
      "  seedStart =        55809\n",
      "  nFields =            1           1           1\n",
      "  \n",
      "  \n",
      "  PROCESS -----------------\n",
      "  xStep      =    600.00000000000000        900.00000000000000        300.00000000000000     \n",
      "  stepProc   =    10800.000000000000        10800.000000000000        3300.0000000000000     \n",
      "  procExtent =    10800.000000000000        10800.000000000000        3300.0000000000000     \n",
      "  procExtent =    10800.000000000000        10800.000000000000        3300.0000000000000     \n",
      "   \n",
      "  Inside 'build_random_field'\n",
      "   \n",
      " -> Inside 'build_random_field---------------------------rang =            0\n",
      " nSamplesInProc =            1\n",
      " xNStep_Proc    =           19          13          12\n",
      " xNTotal_Proc   =                  2964\n",
      " sum_SamplesInProc =            1\n",
      " IPT%nTotalFields  =            1\n",
      " Check =  T\n",
      " Max Coord =    10200.000000000000        9900.0000000000000       -2100.0000000000000     \n",
      "  \n",
      " -> PREPARING INTERNAL LOCALIZATION----------------------------------------\n",
      "  \n",
      " -> SAMPLING----------------------------------------\n",
      " -> Gen_Group            0  making Field            1\n",
      " -> SINGLE REALIZATION proc            0\n",
      " -> VALID proc            0\n",
      " -> Calculating Sample proc            0\n",
      " -> FFT            0\n",
      " FFT\n",
      " In rang            0  L=                   19 M=                   13 N=                   12 local_LastDim=                   12\n",
      " WARNING, local_LastDim =                    12 problems have been observed when a FFTW slab is this thin\n",
      " correlation length   1.0000000000000000        1.0000000000000000        1.0000000000000000     \n",
      " size(RDF%kPoints,2) =         2964\n",
      " RDF%comm =            5\n",
      " Calculating FFT In rang            0\n",
      " shape(data_real_3D) =           19          13          12\n",
      " AFTER Calculating FFT In rang            0\n",
      " -> AFTER FFT            0\n",
      " -> Gathering Sample proc            0\n",
      " -> AFTER SAMPLING proc            0\n",
      "  \n",
      " -> EXTERNAL LOCALIZATION----------------------------------------\n",
      " NO\n",
      " -> TRANFORMING AND WRITING OUTPUT--------------------\n",
      "     IPT%outputFolder = /home/lehmannf/HEMEW3D/simulation/example/./mat\n",
      "     IPT%outputName   = Mat_1_Vs\n",
      "     BBoxPath = /home/lehmannf/HEMEW3D/simulation/example/./mat/h5/Mat_1_Vs.h5\n",
      " BBoxPath = /home/lehmannf/HEMEW3D/simulation/example/./mat/h5/Mat_1_Vs.h5\n",
      " fileExist =  T\n",
      " -> WRITING ATTRIBUTES--------------------\n",
      " PATH: /home/lehmannf/HEMEW3D/simulation/example\n",
      " OUTPUT HDF5 ON: /home/lehmannf/HEMEW3D/simulation/example/./mat/h5/Mat_1_Vs.h5\n",
      "     file_mb_size:    2.6779174804687500E-002\n",
      " OUTPUT XMF  ON: /home/lehmannf/HEMEW3D/simulation/example/./mat/xmf/Mat_1_Vs.xmf\n",
      " \n",
      " \n",
      " AVERAGE TIMES (WALL)------------------------ \n",
      " Reading Inputs        =   0.19115746800162015     \n",
      " Pre Organization      =    2.0276795999961905E-002\n",
      " Generation            =    8.1449640019854996E-003\n",
      " Localization Ext      =    2.2697997337672859E-005\n",
      " Writing Normalization =    5.3469000704353675E-005\n",
      " Transforming          =    1.4284099961514585E-004\n",
      " Writing Files         =    3.3090830002038274E-003\n",
      " UNV Interpolation     =    1.5753770021547098E-003\n",
      " \n",
      " \n",
      " ---------------------------------------------------------------------\n",
      " -----------------END RANDOM FIELD LIBRARY TEST-----------------------\n",
      " ---------------------------------------------------------------------\n",
      " \n",
      "      -> Reading Mesh Input\n",
      "    Mesh automatic\n",
      "      -> Reading Generation Input\n",
      " IPT%nFields will be decided automatically\n",
      " nBlocks (ideal) =            1           1           1\n",
      " vol_surf_factor =   0.16666666666666666     \n",
      " IPT%nFields =            1           1           1\n",
      "      -> Validating Input (IPT_Temp)\n",
      " INPUT------------------------------------------------------------\n",
      "   IPT_Temp\n",
      "  \n",
      "  log_ID =           -1\n",
      "  rang =            0\n",
      "  init =  F\n",
      "  comm =            0\n",
      "  \n",
      "  MESH -----------------\n",
      "  nDim_mesh =            3\n",
      "  meshMod =            1\n",
      "  xMaxGlob_in =    9696.0000000000000        9696.0000000000000       -5073.0000000000000     \n",
      "  xMinGlob_in =   -96.000000000000000       -96.000000000000000       -7827.0000000000000     \n",
      "  xMaxGlob =    9696.0000000000000        9696.0000000000000       -5073.0000000000000     \n",
      "  xMinGlob =   -96.000000000000000       -96.000000000000000       -7827.0000000000000     \n",
      "  pointsPerCorrL =            5           5           5\n",
      "  unv =  F\n",
      "  \n",
      "  GENERATION -----------------\n",
      "  nDim_gen =            3\n",
      "  fieldAvg =    2350.2433208782195     \n",
      "  fieldVar =    819.31141073613469     \n",
      "  overlap_in =    5.0000000000000000        5.0000000000000000        5.0000000000000000     \n",
      "  corrL_in =    3000.0000000000000        6000.0000000000000        4500.0000000000000     \n",
      "  overlap =   -1.0000000000000000       -1.0000000000000000       -1.0000000000000000     \n",
      "  corrL =   -1.0000000000000000       -1.0000000000000000       -1.0000000000000000     \n",
      "  corrMod =            3\n",
      "  margiFirst =            2\n",
      "  method =            4\n",
      "  Nmc =            1\n",
      "  seedStart =        55810\n",
      "  nFields =            1           1           1\n",
      "  \n",
      "  \n",
      "  PROCESS -----------------\n",
      "  xStep      =    6.9385700715291136E-310   6.9385700715291136E-310   1.1659949241853418E-321\n",
      "  stepProc   =    6.9385700715275326E-310   6.9385700715275326E-310   1.0375378562666177E-322\n",
      "  procExtent =    0.0000000000000000        0.0000000000000000        1.5810100666919889E-322\n",
      "  procExtent =    0.0000000000000000        0.0000000000000000        1.5810100666919889E-322\n",
      "  \n",
      "  \n",
      " -> Initializing Input (IPT)\n",
      " -> Processing INPUTS---------------------------\n",
      " INPUT------------------------------------------------------------\n",
      "   IPT\n",
      "  \n",
      "  log_ID =           -1\n",
      "  rang =            0\n",
      "  init =  F\n",
      "  comm =            0\n",
      "  \n",
      "  MESH -----------------\n",
      "  nDim_mesh =            3\n",
      "  meshMod =            1\n",
      "  xMaxGlob_in =    9696.0000000000000        9696.0000000000000       -5073.0000000000000     \n",
      "  xMinGlob_in =   -96.000000000000000       -96.000000000000000       -7827.0000000000000     \n",
      "  xMaxGlob =    10200.000000000000        10800.000000000000       -4500.0000000000000     \n",
      "  xMinGlob =   -600.00000000000000       -1200.0000000000000       -8100.0000000000000     \n",
      "  pointsPerCorrL =            5           5           5\n",
      "  unv =  F\n",
      "  \n",
      "  GENERATION -----------------\n",
      "  nDim_gen =            3\n",
      "  fieldAvg =    2350.2433208782195     \n",
      "  fieldVar =    819.31141073613469     \n",
      "  overlap_in =    5.0000000000000000        5.0000000000000000        5.0000000000000000     \n",
      "  corrL_in =    3000.0000000000000        6000.0000000000000        4500.0000000000000     \n",
      "  overlap =    0.0000000000000000        0.0000000000000000        0.0000000000000000     \n",
      "  corrL =    3000.0000000000000        6000.0000000000000        4500.0000000000000     \n",
      "  corrMod =            3\n",
      "  margiFirst =            2\n",
      "  method =            4\n",
      "  Nmc =            1\n",
      "  seedStart =        55810\n",
      "  nFields =            1           1           1\n",
      "  \n",
      "  \n",
      "  PROCESS -----------------\n",
      "  xStep      =    600.00000000000000        1200.0000000000000        900.00000000000000     \n",
      "  stepProc   =    10800.000000000000        12000.000000000000        3600.0000000000000     \n",
      "  procExtent =    10800.000000000000        12000.000000000000        3600.0000000000000     \n",
      "  procExtent =    10800.000000000000        12000.000000000000        3600.0000000000000     \n",
      "   \n",
      "  Inside 'build_random_field'\n",
      "   \n",
      " -> Inside 'build_random_field---------------------------rang =            0\n",
      " nSamplesInProc =            1\n",
      " xNStep_Proc    =           19          11           5\n",
      " xNTotal_Proc   =                  1045\n",
      " sum_SamplesInProc =            1\n",
      " IPT%nTotalFields  =            1\n",
      " Check =  T\n",
      " Max Coord =    10200.000000000000        10800.000000000000       -4500.0000000000000     \n",
      "  \n",
      " -> PREPARING INTERNAL LOCALIZATION----------------------------------------\n",
      "  \n",
      " -> SAMPLING----------------------------------------\n",
      " -> Gen_Group            0  making Field            1\n",
      " -> SINGLE REALIZATION proc            0\n",
      " -> VALID proc            0\n",
      " -> Calculating Sample proc            0\n",
      " -> FFT            0\n",
      " FFT\n",
      " In rang            0  L=                   19 M=                   11 N=                    5 local_LastDim=                    5\n",
      " WARNING, local_LastDim =                     5 problems have been observed when a FFTW slab is this thin\n",
      " correlation length   1.0000000000000000        1.0000000000000000        1.0000000000000000     \n",
      " size(RDF%kPoints,2) =         1045\n",
      " RDF%comm =            5\n",
      " Calculating FFT In rang            0\n",
      " shape(data_real_3D) =           19          11           5\n",
      " AFTER Calculating FFT In rang            0\n",
      " -> AFTER FFT            0\n",
      " -> Gathering Sample proc            0\n",
      " -> AFTER SAMPLING proc            0\n",
      "  \n",
      " -> EXTERNAL LOCALIZATION----------------------------------------\n",
      " NO\n",
      " -> TRANFORMING AND WRITING OUTPUT--------------------\n",
      "     IPT%outputFolder = /home/lehmannf/HEMEW3D/simulation/example/./mat\n",
      "     IPT%outputName   = Mat_2_Vs\n",
      "     BBoxPath = /home/lehmannf/HEMEW3D/simulation/example/./mat/h5/Mat_2_Vs.h5\n",
      " BBoxPath = /home/lehmannf/HEMEW3D/simulation/example/./mat/h5/Mat_2_Vs.h5\n",
      " fileExist =  T\n",
      " -> WRITING ATTRIBUTES--------------------\n",
      " PATH: /home/lehmannf/HEMEW3D/simulation/example\n",
      " OUTPUT HDF5 ON: /home/lehmannf/HEMEW3D/simulation/example/./mat/h5/Mat_2_Vs.h5\n",
      "     file_mb_size:    1.2138366699218750E-002\n",
      " OUTPUT XMF  ON: /home/lehmannf/HEMEW3D/simulation/example/./mat/xmf/Mat_2_Vs.xmf\n",
      " \n",
      " \n",
      " AVERAGE TIMES (WALL)------------------------ \n",
      " Reading Inputs        =   0.22902196500217542     \n",
      " Pre Organization      =    7.4585600013961084E-003\n",
      " Generation            =    2.7797219991043676E-003\n",
      " Localization Ext      =    1.1001000530086458E-005\n",
      " Writing Normalization =    1.6089998098323122E-005\n",
      " Transforming          =    4.0917999285738915E-005\n",
      " Writing Files         =    2.0993590005673468E-003\n",
      " UNV Interpolation     =    8.0200999946100637E-004\n",
      " \n",
      " \n",
      " ---------------------------------------------------------------------\n",
      " -----------------END RANDOM FIELD LIBRARY TEST-----------------------\n",
      " ---------------------------------------------------------------------\n",
      " \n"
     ]
    }
   ],
   "source": [
    "current_dir = os.getcwd()\n",
    "os.chdir(path_folder)\n",
    "\n",
    "# remove the homogeneous materials created by the mesher\n",
    "if 'mat' in os.listdir():\n",
    "    shutil.rmtree('mat')\n",
    "\n",
    "output = os.system(PATH_SEM3D + 'BUILD_RF/randomField.exe')\n",
    "if output!=0:\n",
    "    os.chdir(current_dir)\n",
    "    raise Exception('RandomField could not run \"'+run_name+'\"')\n",
    "    \n",
    "os.chdir(current_dir)"
   ]
  },
  {
   "cell_type": "markdown",
   "id": "1b7ac88a",
   "metadata": {},
   "source": [
    "<a id='section4'></a>\n",
    "# 4. Assemble random materials into a numpy array"
   ]
  },
  {
   "cell_type": "markdown",
   "id": "6fdb462e-04c8-4070-9410-2c34900639bf",
   "metadata": {
    "tags": []
   },
   "source": [
    "Read the material values from the `h5` files and store them into a dataframe `df`. "
   ]
  },
  {
   "cell_type": "code",
   "execution_count": 26,
   "id": "244e0a66",
   "metadata": {
    "collapsed": false,
    "jupyter": {
     "outputs_hidden": false
    }
   },
   "outputs": [],
   "source": [
    "df = read_random_field('Vs', 0, min_field = DX*FMAX,\n",
    "                          Xinterp=DX, Yinterp=DY, Zinterp=DZ,\n",
    "                          interpolation=True, path_case=path_folder)\n",
    "\n",
    "for material in range(1, layers.shape[0]-1):\n",
    "    temp = read_random_field('Vs', material, min_field = DX*FMAX,\n",
    "                          Xinterp=DX, Yinterp=DY, Zinterp=DZ,\n",
    "                          interpolation=True, path_case=path_folder)\n",
    "    df = pd.concat([df, temp])\n",
    "    \n",
    "\n",
    "# Since RandomField extends the domain, we need to restrict to the inner domain.\n",
    "df = df.loc[(df.x>=XMIN)&(df.x<=XMAX)&(df.y>=YMIN)&(df.y<=YMAX)&(df.z>=-DEPTH_TOTAL+DEPTH_BOTTOM)&(df.z<=ZMAX)]\n",
    "\n",
    "# create the constant bottom layer\n",
    "Xtemp = np.unique(df.x)\n",
    "Ytemp = np.unique(df.y)\n",
    "Ztemp = np.linspace(-DEPTH_TOTAL, -DEPTH_TOTAL+DEPTH_BOTTOM, int(DEPTH_BOTTOM/DZ)+1)\n",
    "temp = array2dataframe(layers.iloc[-1].loc['Vs']*np.ones((Xtemp.shape[0],Ytemp.shape[0],Ztemp.shape[0])),\n",
    "                        Xtemp, Ytemp, Ztemp, 'Vs', order='xyz')\n",
    "df = pd.concat([df, temp])"
   ]
  },
  {
   "cell_type": "markdown",
   "id": "c9f6d1c3-eacb-4b42-8d55-2f5ada24b3fd",
   "metadata": {
    "tags": []
   },
   "source": [
    "At the interface between two layers, there are values from both random fields. In this case, the mean value is kept."
   ]
  },
  {
   "cell_type": "code",
   "execution_count": 27,
   "id": "7964a6ec",
   "metadata": {
    "collapsed": false,
    "jupyter": {
     "outputs_hidden": false
    }
   },
   "outputs": [],
   "source": [
    "temp = df.groupby(['x','y','z']).mean()\n",
    "df_unique = pd.DataFrame({'x':temp.index.get_level_values('x'),\n",
    "                          'y':temp.index.get_level_values('y'),\n",
    "                          'z':temp.index.get_level_values('z'),\n",
    "                          'Vs':temp.Vs.values})"
   ]
  },
  {
   "cell_type": "markdown",
   "id": "81b8c18e",
   "metadata": {},
   "source": [
    "Convert the dataframe back to a 3D matrix. "
   ]
  },
  {
   "cell_type": "code",
   "execution_count": 28,
   "id": "17b678ee",
   "metadata": {
    "collapsed": false,
    "jupyter": {
     "outputs_hidden": false
    }
   },
   "outputs": [],
   "source": [
    "mat = dataframe2array(df_unique, 'Vs', order='xyz')"
   ]
  },
  {
   "cell_type": "markdown",
   "id": "24aa69aa-1014-433e-82b0-a49822895ea1",
   "metadata": {},
   "source": [
    "Restrict to the acceptable physical values `VS_MIN` and `VS_MAX`"
   ]
  },
  {
   "cell_type": "code",
   "execution_count": 29,
   "id": "b394786a-9c3b-4cff-8317-83f7dd4aee74",
   "metadata": {},
   "outputs": [],
   "source": [
    "mat = np.where(mat<VS_MIN, VS_MIN, np.where(mat>VS_MAX, VS_MAX, mat))"
   ]
  },
  {
   "cell_type": "code",
   "execution_count": 30,
   "id": "827fcca3-dc09-44e8-804f-5e8346b9dc38",
   "metadata": {},
   "outputs": [
    {
     "data": {
      "image/png": "[encoded data removed]",
      "text/plain": [
       "<Figure size 1200x600 with 2 Axes>"
      ]
     },
     "metadata": {},
     "output_type": "display_data"
    }
   ],
   "source": [
    "plot3Dcube(mat,\n",
    "           np.linspace(XMIN, XMAX, int((XMAX-XMIN)/DX)+1),\n",
    "           np.linspace(YMIN, YMAX, int((YMAX-YMIN)/DY)+1),\n",
    "           np.linspace(-DEPTH_TOTAL, ZMAX, int((ZMAX+DEPTH_TOTAL)/DZ)+1),\n",
    "           vmin = VS_MIN, vmax=VS_MAX)"
   ]
  },
  {
   "cell_type": "markdown",
   "id": "f4d3017a",
   "metadata": {},
   "source": [
    "<a id='section5'></a>\n",
    "# 5. Run the simulation"
   ]
  },
  {
   "cell_type": "code",
   "execution_count": 31,
   "id": "0dc66458",
   "metadata": {
    "tags": []
   },
   "outputs": [],
   "source": [
    "from simulation.simulation_files import *"
   ]
  },
  {
   "cell_type": "markdown",
   "id": "eb4bc31f",
   "metadata": {},
   "source": [
    "Define the source as a double-couple moment tensor. "
   ]
  },
  {
   "cell_type": "code",
   "execution_count": 32,
   "id": "d0499cb2",
   "metadata": {
    "collapsed": false,
    "jupyter": {
     "outputs_hidden": false
    }
   },
   "outputs": [],
   "source": [
    "strike = 48\n",
    "dip = 45\n",
    "rake = 88\n",
    "M0 = 2.47e16\n",
    "Mxx, Myy, Mzz, Mxy, Mxz, Myz = compute_moment_tensor(strike,dip,rake,M0)"
   ]
  },
  {
   "cell_type": "markdown",
   "id": "f4376230-68b7-461d-bdcd-f7e7b9578cde",
   "metadata": {},
   "source": [
    "Define the source position at the center of the domain and in the constant bottom layer. "
   ]
  },
  {
   "cell_type": "code",
   "execution_count": 33,
   "id": "e90efa62-2365-4514-8806-7714f566e150",
   "metadata": {},
   "outputs": [
    {
     "name": "stdout",
     "output_type": "stream",
     "text": [
      "Source is located at (4800.0, 4800.0, -8400)\n"
     ]
    }
   ],
   "source": [
    "source_x = XMIN + (XMAX-XMIN)/2\n",
    "source_y = YMIN + (YMAX - YMIN)/2\n",
    "source_z = ZMAX - 28*DZ\n",
    "print(f'Source is located at ({source_x}, {source_y}, {source_z})')\n",
    "\n",
    "source=pd.Series({'type':'moment',\n",
    "                 'x':source_x,\n",
    "                 'y':source_y,\n",
    "                 'z':source_y,\n",
    "                 'moment_xx':Mxx,\n",
    "                 'moment_yy':Myy,\n",
    "                 'moment_zz':Mzz,\n",
    "                 'moment_xy':Mxy,\n",
    "                 'moment_xz':Mxz,\n",
    "                 'moment_yz':Myz,\n",
    "                 'func' : 'file',\n",
    "                  'filename' : f'{path_folder}source_time.txt',\n",
    "                 })"
   ]
  },
  {
   "cell_type": "markdown",
   "id": "dce53308-1957-40d8-b6b8-a060ad268e3c",
   "metadata": {},
   "source": [
    "Define the source time function as a ramp function parametrized by the magnitude `Mw`."
   ]
  },
  {
   "cell_type": "code",
   "execution_count": 34,
   "id": "c8a8f8e9-dfd8-4e39-96b0-96a2fa825001",
   "metadata": {},
   "outputs": [],
   "source": [
    "t_final = 20\n",
    "dt = 0.001 # sampling time step for the source\n",
    "t0 = 0.5 # initial time of the source\n",
    "Mw = 4.9 # magntiude\n",
    "tau = 10**(0.5*(Mw-6.69)) # formula depending on Mw \n",
    "\n",
    "tvec = np.arange(0, t_final + dt,dt) \n",
    "source_tf = pd.Series(np.where(tvec>=t0, spice_bench(tvec-t0, 1/tau), 0), index=tvec,dtype=float)\n",
    "\n",
    "# write the source time file\n",
    "with open(path_folder + 'source_time.txt', 'w') as f:\n",
    "    for t,s in zip(source_tf.index, source_tf.values):\n",
    "        f.write(f'{t} {s}\\n')"
   ]
  },
  {
   "cell_type": "code",
   "execution_count": 35,
   "id": "af200747-462a-4d02-b08a-a759120181b7",
   "metadata": {},
   "outputs": [
    {
     "data": {
      "image/png": "[encoded data removed]",
      "text/plain": [
       "<Figure size 800x400 with 2 Axes>"
      ]
     },
     "metadata": {},
     "output_type": "display_data"
    }
   ],
   "source": [
    "fig, (ax1, ax2)=plt.subplots(1, 2, figsize=(8,4))\n",
    "ax1.plot(source_tf)\n",
    "ax1.set_xlabel('Time [s]')\n",
    "ax1.set_ylabel('Force')\n",
    "ax1.set_xlim([0,4])\n",
    "\n",
    "ax2.loglog(np.fft.rfftfreq(source_tf.shape[0],d=dt),np.abs(np.fft.rfft(source_tf)))\n",
    "ax2.set_xlabel('Frequency [Hz]')\n",
    "ax2.set_ylabel('Amplitude')\n",
    "ax2.grid(True)\n",
    "fig.suptitle('Source time function')\n",
    "fig.subplots_adjust(left=0.1,right=0.95,wspace=0.3, bottom=0.15)\n",
    "plt.show()"
   ]
  },
  {
   "cell_type": "markdown",
   "id": "ddf0b2c1-b2af-43b3-9f2c-3e49e4cd001e",
   "metadata": {},
   "source": [
    "All simulation inputs are included in the `input.spec` file."
   ]
  },
  {
   "cell_type": "code",
   "execution_count": 36,
   "id": "c11cf18b-104b-4878-b771-6302143604a4",
   "metadata": {},
   "outputs": [],
   "source": [
    "with open(path_folder+'input.spec', 'a') as f:\n",
    "    f.write('# duration of the run\\n')\n",
    "    f.write(f'sim_time = {t_final};\\n\\n')"
   ]
  },
  {
   "cell_type": "markdown",
   "id": "001a901c-aa41-44d3-9d68-9d200e417047",
   "metadata": {},
   "source": [
    "Write the source parameters"
   ]
  },
  {
   "cell_type": "code",
   "execution_count": 37,
   "id": "6d3779bc-37b6-418d-b661-2292e55bc49a",
   "metadata": {},
   "outputs": [],
   "source": [
    "with open(path_folder+'input.spec', 'a') as f:\n",
    "    f.write('# Introduce a source\\n')       \n",
    "    f.write('source {\\n')\n",
    "    f.write('\\t# coordinates of the source (x,yz) or (lat,long,R)\\n')\n",
    "    f.write(f'\\tcoords = {source.x} {source.y} {source.z};\\n')\n",
    "    f.write('\\t# type (1: impulse, 2: moment tensor, 3: fluidpulse)\\n')\n",
    "    f.write(f'\\ttype = {source.type};\\n')\n",
    "\n",
    "    if source.func=='file':\n",
    "        f.write(f'\\ttime_file = \"{source.filename}.txt\";\\n')\n",
    "\n",
    "    if 'dir_x' in source.index:\n",
    "        f.write('\\t#direction (only for impulse)\\n')\n",
    "        f.write(f'\\tdir = {source.dir_x} {source.dir_y} {source.dir_z};\\n')\n",
    "\n",
    "    if 'moment_xx' in source.index:\n",
    "        f.write('\\t# moment (xx yy zz xy xz yz)\\n')\n",
    "        f.write(f'\\tmoment = {source.moment_xx} {source.moment_yy} '\\\n",
    "                f'{source.moment_zz} {source.moment_xy} {source.moment_xz} {source.moment_yz};\\n')\n",
    "        \n",
    "    for key in ['func','freq','tau','gamma','ts']:\n",
    "        if key in source.index:\n",
    "            f.write('\\t{} = {};\\n'.format(key,source.loc[key]))\n",
    "\n",
    "    f.write('};\\n\\n')"
   ]
  },
  {
   "cell_type": "markdown",
   "id": "83ad870f-e455-4843-be46-366a53b3b3cb",
   "metadata": {},
   "source": [
    "Define a regular grid of sensors at the surface."
   ]
  },
  {
   "cell_type": "code",
   "execution_count": 38,
   "id": "66bca9be-f5dd-49f2-988f-923a99e30275",
   "metadata": {},
   "outputs": [],
   "source": [
    "sensors = pd.DataFrame(columns=['x','y','z'])\n",
    "\n",
    "for x in np.linspace(XMIN + DX/2, XMAX-DX/2, 16):\n",
    "    for y in np.linspace(YMIN + DY/2, YMAX-DY/2, 16):\n",
    "        sensors = pd.concat([sensors, pd.DataFrame(np.array([[x, y , ZMAX-1]]),\n",
    "                                                        columns=['x','y','z'])])\n",
    "        \n",
    "sensors.to_csv(path_folder+'sensors.txt', index=None, header=None, sep=' ')"
   ]
  },
  {
   "cell_type": "code",
   "execution_count": null,
   "id": "36f0fe87-4e78-49e8-90b3-165de585fec3",
   "metadata": {},
   "outputs": [],
   "source": []
  },
  {
   "cell_type": "markdown",
   "id": "9bd48902-ec0c-41b8-8e4d-ecbe13f8e3e2",
   "metadata": {},
   "source": [
    "Write the sensors description in the `input.spec` file."
   ]
  },
  {
   "cell_type": "code",
   "execution_count": 39,
   "id": "da86f9ff-8a4d-43da-914a-a6d1559df176",
   "metadata": {},
   "outputs": [],
   "source": [
    "with open(path_folder+'input.spec', 'a') as f:\n",
    "    f.writelines(['# Sensors description\\n',\n",
    "                  'save_traces = true;\\n',\n",
    "                  'traces_format = hdf5;\\n\\n'])\n",
    "    \n",
    "with open(path_folder+'input.spec', 'a') as f:\n",
    "    f.write('capteurs \"S\" {\\n')\n",
    "    f.write('\\ttype = points;\\n')\n",
    "    f.write(f'\\tfile = \"sensors.txt\";\\n')\n",
    "    f.write(f'\\tperiod = 5;\\n') # solutions are synthetized every period internal time step\n",
    "    f.write('};\\n\\n') "
   ]
  },
  {
   "cell_type": "markdown",
   "id": "19e17fc6-5c76-462c-8eb0-610ffbe5cbc7",
   "metadata": {},
   "source": [
    "Supplementary parameters for the simulation"
   ]
  },
  {
   "cell_type": "code",
   "execution_count": 40,
   "id": "5479801d-83a2-49dd-bd33-a2bd1d68c381",
   "metadata": {},
   "outputs": [],
   "source": [
    "with open(path_folder+'input.spec', 'a') as f:\n",
    "    f.write('snapshots {\\n')\n",
    "    f.write('\\tsave_snap = false;\\n')\n",
    "    f.write('\\tsnap_interval = 0.1;\\n')\n",
    "    f.write('\\tselect all;\\n')\n",
    "    f.write('};\\n\\n')\n",
    "    \n",
    "with open(path_folder+'input.spec', 'a') as f:\n",
    "    f.write('# Fichier protection reprise\\n')\n",
    "    f.write('prorep=false;\\n')\n",
    "    f.write('prorep_iter=10000;\\n') # without protection (otherwise the files are too large to be written)\n",
    "    f.write('restart_iter=0;\\n\\n')    \n",
    "\n",
    "with open(path_folder+'input.spec', 'a') as f:\n",
    "    f.write('time_scheme {\\n')\n",
    "    f.write('\\taccel_scheme = false;\\t# Acceleration scheme for Newmark\\n')\n",
    "    f.write('\\tveloc_scheme = true;\\t# Velocity scheme for Newmark\\n')\n",
    "    f.write('\\talpha = 0.5;\\t# alpha (Newmark parameter)\\n')\n",
    "    f.write('\\tbeta =  0.5;\\t# beta (Newmark parameter)\\n')\n",
    "    f.write('\\tgamma = 1; \\t# gamma (Newmark parameter)\\n')\n",
    "    f.write('\\tcourant=0.2;\\n')\n",
    "    f.write('};\\n\\n')\n",
    "\n",
    "\n",
    "with open(path_folder+'input.spec', 'a') as f:\n",
    "    f.write('out_variables {\\n')\n",
    "    f.write('\\tenP  = 0;   # P-wave energy (scalar field)\\n')\n",
    "    f.write('\\tenS  = 0;   # S-wave energy (scalar field)\\n')\n",
    "    f.write('\\tevol = 0;   # volumetric strain (scalar field)\\n')\n",
    "    f.write('\\tpre  = 0;   # pressure (scalar field)\\n')\n",
    "    f.write('\\tdis  = 1;   # displacement (vector field)\\n')\n",
    "    f.write('\\tvel  = 1;   # velocity (vector field)\\n')\n",
    "    f.write('\\tacc  = 1;   # acceleration (vector field)\\n')\n",
    "    f.write('\\tedev = 0;   # deviatoric strain (tensor field)\\n')\n",
    "    f.write('\\tsdev = 0;   # deviatoric stress (tensor field)\\n')\n",
    "    f.write('\\tedevpl = 0; # deviatoric strain (tensor field)\\n')\n",
    "    f.write('\\tgradla = 0; # gradient Lambda\\n')\n",
    "    f.write('\\tgradmu = 0; # gradient Mu\\n')\n",
    "    f.write('};\\n\\n')"
   ]
  },
  {
   "cell_type": "markdown",
   "id": "8bcac8c3-7aed-43cc-98b7-45c2daa825b2",
   "metadata": {},
   "source": [
    "To launch the simulation, run `ccc_mprun PATH_SEM_BUILD/SEM3D/sem3d.exe` by adapting the path and the number of processors."
   ]
  }
 ],
 "metadata": {
  "kernelspec": {
   "display_name": "Python 3 (ipykernel)",
   "language": "python",
   "name": "python3"
  },
  "language_info": {
   "codemirror_mode": {
    "name": "ipython",
    "version": 3
   },
   "file_extension": ".py",
   "mimetype": "text/x-python",
   "name": "python",
   "nbconvert_exporter": "python",
   "pygments_lexer": "ipython3",
   "version": "3.10.2"
  }
 },
 "nbformat": 4,
 "nbformat_minor": 5
}
