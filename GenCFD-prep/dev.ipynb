{
 "cells": [
  {
   "cell_type": "code",
   "execution_count": 1,
   "metadata": {},
   "outputs": [],
   "source": [
    "import os\n",
    "import numpy as np\n",
    "import pandas as pd\n",
    "import matplotlib.pyplot as plt\n",
    "import h5py"
   ]
  },
  {
   "cell_type": "code",
   "execution_count": 8,
   "metadata": {},
   "outputs": [],
   "source": [
    "import torch\n",
    "# Create a 3D tensor\n",
    "trace_data = np.empty((32, 32, 128))\n",
    "x = torch.zeros(trace_data.shape, dtype=torch.float32)  # 3D tensor with shape [32, 32, 128]\n",
    "y = torch.zeros((32, 2, 128), dtype=torch.float32)  # 2D tensor with shape [32, 32]\n",
    "\n",
    "inputs = torch.cat((x, y), dim=1)"
   ]
  },
  {
   "cell_type": "markdown",
   "metadata": {},
   "source": [
    "## Check files on Euler storage"
   ]
  },
  {
   "cell_type": "markdown",
   "metadata": {},
   "source": [
    "### Version 2"
   ]
  },
  {
   "cell_type": "markdown",
   "metadata": {},
   "source": [
    "#### Materials\n",
    "30k, all samples"
   ]
  },
  {
   "cell_type": "code",
   "execution_count": 6,
   "metadata": {},
   "outputs": [
    {
     "name": "stdout",
     "output_type": "stream",
     "text": [
      "Number of files: 15\n"
     ]
    },
    {
     "data": {
      "text/plain": [
       "['material100000-101999.npy',\n",
       " 'material102000-103999.npy',\n",
       " 'material104000-105999.npy',\n",
       " 'material106000-107999.npy',\n",
       " 'material108000-109999.npy',\n",
       " 'material110000-111999.npy',\n",
       " 'material112000-113999.npy',\n",
       " 'material114000-115999.npy',\n",
       " 'material116000-117999.npy',\n",
       " 'material118000-119999.npy',\n",
       " 'material120000-121999.npy',\n",
       " 'material122000-123999.npy',\n",
       " 'material124000-125999.npy',\n",
       " 'material126000-127999.npy',\n",
       " 'material128000-129999.npy']"
      ]
     },
     "execution_count": 6,
     "metadata": {},
     "output_type": "execute_result"
    }
   ],
   "source": [
    "data_basepath = r'/cluster/work/math/camlab-data/Wave_HemewS-3D'\n",
    "res = sorted(os.listdir(os.path.join(data_basepath, 'version2', 'materials')))  # velocity\n",
    "print(f'Number of files: {len(res)}')\n",
    "res"
   ]
  },
  {
   "cell_type": "code",
   "execution_count": 11,
   "metadata": {},
   "outputs": [
    {
     "data": {
      "text/plain": [
       "(2000, 32, 32, 32)"
      ]
     },
     "execution_count": 11,
     "metadata": {},
     "output_type": "execute_result"
    }
   ],
   "source": [
    "a = np.load(os.path.join(data_basepath, 'materials', res[0]))\n",
    "a.shape"
   ]
  },
  {
   "cell_type": "markdown",
   "metadata": {},
   "source": [
    "#### Velocity\n",
    "\n",
    "5.4k, only subset?"
   ]
  },
  {
   "cell_type": "code",
   "execution_count": 21,
   "metadata": {},
   "outputs": [
    {
     "data": {
      "text/plain": [
       "50.0"
      ]
     },
     "execution_count": 21,
     "metadata": {},
     "output_type": "execute_result"
    }
   ],
   "source": [
    "53687091200/(2**30)  # 50 GiB"
   ]
  },
  {
   "cell_type": "code",
   "execution_count": 8,
   "metadata": {},
   "outputs": [
    {
     "name": "stdout",
     "output_type": "stream",
     "text": [
      "Number of files: 54\n"
     ]
    },
    {
     "data": {
      "text/plain": [
       "['velocity100000-100099.zip',\n",
       " 'velocity100100-100199.zip',\n",
       " 'velocity100200-100299.zip',\n",
       " 'velocity100300-100399.zip',\n",
       " 'velocity100400-100499.zip',\n",
       " 'velocity100500-100599.zip',\n",
       " 'velocity100600-100699.zip',\n",
       " 'velocity100700-100799.zip',\n",
       " 'velocity100800-100899.zip',\n",
       " 'velocity100900-100999.zip',\n",
       " 'velocity101000-101099.zip',\n",
       " 'velocity101100-101199.zip',\n",
       " 'velocity101200-101299.zip',\n",
       " 'velocity101300-101399.zip',\n",
       " 'velocity101400-101499.zip',\n",
       " 'velocity101500-101599.zip',\n",
       " 'velocity101600-101699.zip',\n",
       " 'velocity101700-101799.zip',\n",
       " 'velocity101800-101899.zip',\n",
       " 'velocity101900-101999.zip',\n",
       " 'velocity102000-102099.zip',\n",
       " 'velocity102100-102199.zip',\n",
       " 'velocity102200-102299.zip',\n",
       " 'velocity102300-102399.zip',\n",
       " 'velocity102400-102499.zip',\n",
       " 'velocity102500-102599.zip',\n",
       " 'velocity102600-102699.zip',\n",
       " 'velocity102700-102799.zip',\n",
       " 'velocity102800-102899.zip',\n",
       " 'velocity102900-102999.zip',\n",
       " 'velocity103000-103099.zip',\n",
       " 'velocity103100-103199.zip',\n",
       " 'velocity103200-103299.zip',\n",
       " 'velocity103300-103399.zip',\n",
       " 'velocity103400-103499.zip',\n",
       " 'velocity103500-103599.zip',\n",
       " 'velocity103600-103699.zip',\n",
       " 'velocity103700-103799.zip',\n",
       " 'velocity103800-103899.zip',\n",
       " 'velocity103900-103999.zip',\n",
       " 'velocity104000-104099.zip',\n",
       " 'velocity104100-104199.zip',\n",
       " 'velocity104200-104299.zip',\n",
       " 'velocity104300-104399.zip',\n",
       " 'velocity104400-104499.zip',\n",
       " 'velocity104500-104599.zip',\n",
       " 'velocity104600-104699.zip',\n",
       " 'velocity104700-104799.zip',\n",
       " 'velocity104800-104899.zip',\n",
       " 'velocity104900-104999.zip',\n",
       " 'velocity105000-105099.zip',\n",
       " 'velocity105100-105199.zip',\n",
       " 'velocity105200-105299.zip',\n",
       " 'velocity105300-105399.zip']"
      ]
     },
     "execution_count": 8,
     "metadata": {},
     "output_type": "execute_result"
    }
   ],
   "source": [
    "data_basepath = r'/cluster/work/math/camlab-data/Wave_HemewS-3D'\n",
    "res = sorted(os.listdir(os.path.join(data_basepath, 'version2', 'velocity')))  # \n",
    "print(f'Number of files: {len(res)}')\n",
    "res"
   ]
  },
  {
   "cell_type": "markdown",
   "metadata": {},
   "source": [
    "#### Metadata"
   ]
  },
  {
   "cell_type": "code",
   "execution_count": 24,
   "metadata": {},
   "outputs": [
    {
     "data": {
      "text/html": [
       "<div>\n",
       "<style scoped>\n",
       "    .dataframe tbody tr th:only-of-type {\n",
       "        vertical-align: middle;\n",
       "    }\n",
       "\n",
       "    .dataframe tbody tr th {\n",
       "        vertical-align: top;\n",
       "    }\n",
       "\n",
       "    .dataframe thead th {\n",
       "        text-align: right;\n",
       "    }\n",
       "</style>\n",
       "<table border=\"1\" class=\"dataframe\">\n",
       "  <thead>\n",
       "    <tr style=\"text-align: right;\">\n",
       "      <th></th>\n",
       "      <th>index</th>\n",
       "      <th>x_s (m)</th>\n",
       "      <th>y_s (m)</th>\n",
       "      <th>z_s (m)</th>\n",
       "      <th>strike (°)</th>\n",
       "      <th>dip (°)</th>\n",
       "      <th>rake (°)</th>\n",
       "    </tr>\n",
       "  </thead>\n",
       "  <tbody>\n",
       "    <tr>\n",
       "      <th>0</th>\n",
       "      <td>100000</td>\n",
       "      <td>6161</td>\n",
       "      <td>8368</td>\n",
       "      <td>-8803</td>\n",
       "      <td>125.477915</td>\n",
       "      <td>24.269489</td>\n",
       "      <td>109.482162</td>\n",
       "    </tr>\n",
       "    <tr>\n",
       "      <th>1</th>\n",
       "      <td>100001</td>\n",
       "      <td>7024</td>\n",
       "      <td>4435</td>\n",
       "      <td>-3513</td>\n",
       "      <td>70.157170</td>\n",
       "      <td>40.476039</td>\n",
       "      <td>94.115352</td>\n",
       "    </tr>\n",
       "    <tr>\n",
       "      <th>2</th>\n",
       "      <td>100002</td>\n",
       "      <td>3167</td>\n",
       "      <td>2278</td>\n",
       "      <td>-8355</td>\n",
       "      <td>64.196441</td>\n",
       "      <td>80.324263</td>\n",
       "      <td>234.888843</td>\n",
       "    </tr>\n",
       "    <tr>\n",
       "      <th>3</th>\n",
       "      <td>100003</td>\n",
       "      <td>1934</td>\n",
       "      <td>2766</td>\n",
       "      <td>-8262</td>\n",
       "      <td>338.083002</td>\n",
       "      <td>52.216644</td>\n",
       "      <td>340.116925</td>\n",
       "    </tr>\n",
       "    <tr>\n",
       "      <th>4</th>\n",
       "      <td>100004</td>\n",
       "      <td>3720</td>\n",
       "      <td>2202</td>\n",
       "      <td>-8201</td>\n",
       "      <td>250.500026</td>\n",
       "      <td>13.962981</td>\n",
       "      <td>278.378617</td>\n",
       "    </tr>\n",
       "  </tbody>\n",
       "</table>\n",
       "</div>"
      ],
      "text/plain": [
       "    index  x_s (m)  y_s (m)  z_s (m)  strike (°)    dip (°)    rake (°)\n",
       "0  100000     6161     8368    -8803  125.477915  24.269489  109.482162\n",
       "1  100001     7024     4435    -3513   70.157170  40.476039   94.115352\n",
       "2  100002     3167     2278    -8355   64.196441  80.324263  234.888843\n",
       "3  100003     1934     2766    -8262  338.083002  52.216644  340.116925\n",
       "4  100004     3720     2202    -8201  250.500026  13.962981  278.378617"
      ]
     },
     "execution_count": 24,
     "metadata": {},
     "output_type": "execute_result"
    }
   ],
   "source": [
    "mat_df = pd.read_csv(os.path.join(data_basepath, 'metadata_materials.tab'), sep='\\t')\n",
    "mat_df.head()\n",
    "\n",
    "src_df = pd.read_csv(os.path.join(data_basepath, 'source_properties.tab'), sep='\\t')\n",
    "src_df.head()"
   ]
  },
  {
   "cell_type": "markdown",
   "metadata": {},
   "source": [
    "### Version 1"
   ]
  },
  {
   "cell_type": "markdown",
   "metadata": {},
   "source": [
    "#### Materials\n",
    "30k, all samples"
   ]
  },
  {
   "cell_type": "code",
   "execution_count": 10,
   "metadata": {},
   "outputs": [
    {
     "name": "stdout",
     "output_type": "stream",
     "text": [
      "Number of files: 15\n"
     ]
    },
    {
     "data": {
      "text/plain": [
       "['materials0-1999.npy',\n",
       " 'materials10000-11999.npy',\n",
       " 'materials12000-13999.npy',\n",
       " 'materials14000-15999.npy',\n",
       " 'materials16000-17999.npy',\n",
       " 'materials18000-19999.npy',\n",
       " 'materials2000-3999.npy',\n",
       " 'materials20000-21999.npy',\n",
       " 'materials22000-23999.npy',\n",
       " 'materials24000-25999.npy',\n",
       " 'materials26000-27999.npy',\n",
       " 'materials28000-29999.npy',\n",
       " 'materials4000-5999.npy',\n",
       " 'materials6000-7999.npy',\n",
       " 'materials8000-9999.npy']"
      ]
     },
     "execution_count": 10,
     "metadata": {},
     "output_type": "execute_result"
    }
   ],
   "source": [
    "data_basepath = r'/cluster/work/math/camlab-data/Wave_HemewS-3D'\n",
    "res = sorted(os.listdir(os.path.join(data_basepath, 'version1', 'materials')))  # \n",
    "print(f'Number of files: {len(res)}')\n",
    "res"
   ]
  },
  {
   "cell_type": "markdown",
   "metadata": {},
   "source": [
    "#### Velocity\n",
    "4k, only subset?"
   ]
  },
  {
   "cell_type": "code",
   "execution_count": 12,
   "metadata": {},
   "outputs": [
    {
     "name": "stdout",
     "output_type": "stream",
     "text": [
      "Number of files: 40\n"
     ]
    },
    {
     "data": {
      "text/plain": [
       "['velocity0-99.feather',\n",
       " 'velocity100-199.feather',\n",
       " 'velocity1000-1099.feather',\n",
       " 'velocity10000-10099.feather',\n",
       " 'velocity10100-10199.feather',\n",
       " 'velocity10200-10299.feather',\n",
       " 'velocity10300-10399.feather',\n",
       " 'velocity10400-10499.feather',\n",
       " 'velocity10500-10599.feather',\n",
       " 'velocity10600-10699.feather',\n",
       " 'velocity10700-10799.feather',\n",
       " 'velocity10800-10899.feather',\n",
       " 'velocity10900-10999.feather',\n",
       " 'velocity1100-1199.feather',\n",
       " 'velocity11000-11099.feather',\n",
       " 'velocity11100-11199.feather',\n",
       " 'velocity11200-11299.feather',\n",
       " 'velocity11300-11399.feather',\n",
       " 'velocity11400-11499.feather',\n",
       " 'velocity11500-11599.feather',\n",
       " 'velocity11600-11699.feather',\n",
       " 'velocity11700-11799.feather',\n",
       " 'velocity11800-11899.feather',\n",
       " 'velocity11900-11999.feather',\n",
       " 'velocity1200-1299.feather',\n",
       " 'velocity12000-12099.feather',\n",
       " 'velocity12100-12199.feather',\n",
       " 'velocity12200-12299.feather',\n",
       " 'velocity12300-12399.feather',\n",
       " 'velocity12400-12499.feather',\n",
       " 'velocity12500-12599.feather',\n",
       " 'velocity12600-12699.feather',\n",
       " 'velocity12700-12799.feather',\n",
       " 'velocity12800-12899.feather',\n",
       " 'velocity12900-12999.feather',\n",
       " 'velocity1300-1399.feather',\n",
       " 'velocity13000-13099.feather',\n",
       " 'velocity13100-13199.feather',\n",
       " 'velocity13200-13299.feather',\n",
       " 'velocity13300-13399.feather']"
      ]
     },
     "execution_count": 12,
     "metadata": {},
     "output_type": "execute_result"
    }
   ],
   "source": [
    "data_basepath = r'/cluster/work/math/camlab-data/Wave_HemewS-3D'\n",
    "res = sorted(os.listdir(os.path.join(data_basepath, 'version1', 'velocity')))  # \n",
    "print(f'Number of files: {len(res)}')\n",
    "res"
   ]
  },
  {
   "cell_type": "markdown",
   "metadata": {},
   "source": [
    "## Dataset size estimation"
   ]
  },
  {
   "cell_type": "code",
   "execution_count": null,
   "metadata": {},
   "outputs": [
    {
     "data": {
      "text/plain": [
       "0.0244140625"
      ]
     },
     "execution_count": 23,
     "metadata": {},
     "output_type": "execute_result"
    }
   ],
   "source": [
    "# 30k samples; 32x32x128 (x, y, t)\n",
    "\n",
    "100 * 32*32*128 * 2/2**30  # 25 MB"
   ]
  },
  {
   "cell_type": "markdown",
   "metadata": {},
   "source": [
    "## Data preprocessing"
   ]
  },
  {
   "cell_type": "code",
   "execution_count": 3,
   "metadata": {},
   "outputs": [],
   "source": [
    "import sys\n",
    "sys.path.append('/cluster/home/lcarretero/workspace/rds/HEMEW3D/genfcd_prep')\n",
    "\n",
    "import preprocessing_utils as preprocessing_utils\n",
    "from importlib import reload\n",
    "reload(preprocessing_utils)\n",
    "from preprocessing_utils import butter_lowpass_filter, calc_interpolation_points"
   ]
  },
  {
   "cell_type": "code",
   "execution_count": 7,
   "metadata": {},
   "outputs": [
    {
     "name": "stderr",
     "output_type": "stream",
     "text": [
      "Processing files: 100%|██████████| 2/2 [00:23<00:00, 11.80s/it]\n"
     ]
    }
   ],
   "source": [
    "from preprocessing_utils import process_data\n",
    "\n",
    "\n",
    "# Data count\n",
    "max_samples = 10000\n",
    "valid_split = 0.2\n",
    "\n",
    "process_data(\n",
    "    raw_data_path=r'/cluster/work/math/camlab-data/Wave_HemewS-3D/version1',\n",
    "    processed_data_path=r'/cluster/work/math/camlab-data/Wave_HemewS-3D/processed/version1',\n",
    "    S_out=32,\n",
    "    Nt=128,\n",
    "    f=20,\n",
    "    fmax=5,\n",
    "    max_files=2\n",
    ")"
   ]
  },
  {
   "cell_type": "code",
   "execution_count": 2,
   "metadata": {},
   "outputs": [],
   "source": [
    "import sys\n",
    "sys.path.append('/cluster/home/lcarretero/workspace/rds/HEMEW3D/genfcd_prep')\n",
    "\n",
    "import preprocessing_utils\n",
    "from importlib import reload\n",
    "reload(preprocessing_utils)\n",
    "from preprocessing_utils import read_processed_data"
   ]
  },
  {
   "cell_type": "code",
   "execution_count": 3,
   "metadata": {},
   "outputs": [],
   "source": [
    "import h5py\n",
    "import matplotlib.pyplot as plt\n",
    "import numpy as np\n",
    "from preprocessing_utils import read_processed_data\n",
    "from plotting_utils import plot3Dcube_outer_layer\n",
    "\n",
    "fpath = r'/cluster/home/lcarretero/workspace/rds/HEMEW3D/genfcd_prep/processed_data/inputs3D_S32_Z32_T128_fmax5/shard0.h5'"
   ]
  },
  {
   "cell_type": "code",
   "execution_count": 60,
   "metadata": {},
   "outputs": [
    {
     "data": {
      "image/png": "[encoded data removed]",
      "text/plain": [
       "<Figure size 500x800 with 2 Axes>"
      ]
     },
     "metadata": {},
     "output_type": "display_data"
    }
   ],
   "source": [
    "data = read_processed_data(fpath, comp='E', sample=80)\n",
    "\n",
    "# 0, 1, 80\n",
    "\n",
    "# Get dimensions from data\n",
    "nx, ny, nt = data.shape\n",
    "x_coords, y_coords, t_coords = np.arange(nx), np.arange(ny), np.arange(nt)\n",
    "\n",
    "# Ensure symmetric color scale\n",
    "abs_max = max(abs(data.min()), abs(data.max()))\n",
    "vmin, vmax = -abs_max, abs_max\n",
    "\n",
    "# Plot the 3D cube showing only the outer layer\n",
    "plot3Dcube_outer_layer(\n",
    "    data, x_coords, y_coords, t_coords, \n",
    "    cmap='RdBu_r',\n",
    "    vmin=vmin, vmax=vmax,\n",
    "    xlabel='X', ylabel='Y', zlabel='Time',\n",
    "    vlabel='Wave Amplitude',\n",
    "    figsize=(5, 8)\n",
    ")\n"
   ]
  },
  {
   "cell_type": "markdown",
   "metadata": {},
   "source": [
    "## Dataloader tests"
   ]
  },
  {
   "cell_type": "code",
   "execution_count": 37,
   "metadata": {},
   "outputs": [
    {
     "data": {
      "text/plain": [
       "<module 'dataloader.seismics' from '/cluster/home/lcarretero/workspace/rds/GenCFD/GenCFD/dataloader/seismics.py'>"
      ]
     },
     "execution_count": 37,
     "metadata": {},
     "output_type": "execute_result"
    }
   ],
   "source": [
    "import sys\n",
    "sys.path.append('/cluster/home/lcarretero/workspace/rds/GenCFD/GenCFD')\n",
    "\n",
    "from importlib import reload\n",
    "from dataloader import seismics\n",
    "reload(seismics)"
   ]
  },
  {
   "cell_type": "code",
   "execution_count": 38,
   "metadata": {},
   "outputs": [
    {
     "name": "stdout",
     "output_type": "stream",
     "text": [
      "Loading file shard27.h5 at location 1\n",
      "Loading file shard27.h5 into cache\n"
     ]
    }
   ],
   "source": [
    "import sys\n",
    "sys.path.append('/cluster/home/lcarretero/workspace/rds/GenCFD/GenCFD')\n",
    "\n",
    "from dataloader.seismics import UnconditionalSeismic3D\n",
    "\n",
    "UnconditionalSeismic3D_Metadata = dict(\n",
    "    dataset_dirpath=r'/cluster/work/math/camlab-data/Wave_HemewS-3D/processed/version1/inputs3D_S32_Z32_T64_fmax5',\n",
    "    move_to_local_scratch=True,\n",
    "    samples_per_file=100,\n",
    "    trace_name='uE',\n",
    "    input_shape=(32, 32, 64)\n",
    ")\n",
    "\n",
    "dataset = UnconditionalSeismic3D(**UnconditionalSeismic3D_Metadata)\n",
    "res = dataset.__getitem__(1, verbose=True)"
   ]
  },
  {
   "cell_type": "code",
   "execution_count": 40,
   "metadata": {},
   "outputs": [
    {
     "data": {
      "application/vnd.jupyter.widget-view+json": {
       "model_id": "fe77290df61541f18662532a8c09963e",
       "version_major": 2,
       "version_minor": 0
      },
      "text/plain": [
       "  0%|          | 0/250 [00:00<?, ?it/s]"
      ]
     },
     "metadata": {},
     "output_type": "display_data"
    },
    {
     "ename": "KeyboardInterrupt",
     "evalue": "",
     "output_type": "error",
     "traceback": [
      "\u001b[0;31m---------------------------------------------------------------------------\u001b[0m",
      "\u001b[0;31mKeyboardInterrupt\u001b[0m                         Traceback (most recent call last)",
      "Cell \u001b[0;32mIn[40], line 9\u001b[0m\n\u001b[1;32m      6\u001b[0m dataloader_iter \u001b[38;5;241m=\u001b[39m \u001b[38;5;28miter\u001b[39m(dataloader)\n\u001b[1;32m      8\u001b[0m \u001b[38;5;28;01mfor\u001b[39;00m _ \u001b[38;5;129;01min\u001b[39;00m trange(\u001b[38;5;28mlen\u001b[39m(dataloader)):\n\u001b[0;32m----> 9\u001b[0m     res \u001b[38;5;241m=\u001b[39m \u001b[38;5;28mnext\u001b[39m(dataloader_iter)\n",
      "File \u001b[0;32m/cluster/software/stacks/2024-05/python-cuda/3.11.6/lib/python3.11/site-packages/torch/utils/data/dataloader.py:631\u001b[0m, in \u001b[0;36m_BaseDataLoaderIter.__next__\u001b[0;34m(self)\u001b[0m\n\u001b[1;32m    628\u001b[0m \u001b[38;5;28;01mif\u001b[39;00m \u001b[38;5;28mself\u001b[39m\u001b[38;5;241m.\u001b[39m_sampler_iter \u001b[38;5;129;01mis\u001b[39;00m \u001b[38;5;28;01mNone\u001b[39;00m:\n\u001b[1;32m    629\u001b[0m     \u001b[38;5;66;03m# TODO(https://github.com/pytorch/pytorch/issues/76750)\u001b[39;00m\n\u001b[1;32m    630\u001b[0m     \u001b[38;5;28mself\u001b[39m\u001b[38;5;241m.\u001b[39m_reset()  \u001b[38;5;66;03m# type: ignore[call-arg]\u001b[39;00m\n\u001b[0;32m--> 631\u001b[0m data \u001b[38;5;241m=\u001b[39m \u001b[38;5;28;43mself\u001b[39;49m\u001b[38;5;241;43m.\u001b[39;49m\u001b[43m_next_data\u001b[49m\u001b[43m(\u001b[49m\u001b[43m)\u001b[49m\n\u001b[1;32m    632\u001b[0m \u001b[38;5;28mself\u001b[39m\u001b[38;5;241m.\u001b[39m_num_yielded \u001b[38;5;241m+\u001b[39m\u001b[38;5;241m=\u001b[39m \u001b[38;5;241m1\u001b[39m\n\u001b[1;32m    633\u001b[0m \u001b[38;5;28;01mif\u001b[39;00m \u001b[38;5;28mself\u001b[39m\u001b[38;5;241m.\u001b[39m_dataset_kind \u001b[38;5;241m==\u001b[39m _DatasetKind\u001b[38;5;241m.\u001b[39mIterable \u001b[38;5;129;01mand\u001b[39;00m \\\n\u001b[1;32m    634\u001b[0m         \u001b[38;5;28mself\u001b[39m\u001b[38;5;241m.\u001b[39m_IterableDataset_len_called \u001b[38;5;129;01mis\u001b[39;00m \u001b[38;5;129;01mnot\u001b[39;00m \u001b[38;5;28;01mNone\u001b[39;00m \u001b[38;5;129;01mand\u001b[39;00m \\\n\u001b[1;32m    635\u001b[0m         \u001b[38;5;28mself\u001b[39m\u001b[38;5;241m.\u001b[39m_num_yielded \u001b[38;5;241m>\u001b[39m \u001b[38;5;28mself\u001b[39m\u001b[38;5;241m.\u001b[39m_IterableDataset_len_called:\n",
      "File \u001b[0;32m/cluster/software/stacks/2024-05/python-cuda/3.11.6/lib/python3.11/site-packages/torch/utils/data/dataloader.py:675\u001b[0m, in \u001b[0;36m_SingleProcessDataLoaderIter._next_data\u001b[0;34m(self)\u001b[0m\n\u001b[1;32m    673\u001b[0m \u001b[38;5;28;01mdef\u001b[39;00m \u001b[38;5;21m_next_data\u001b[39m(\u001b[38;5;28mself\u001b[39m):\n\u001b[1;32m    674\u001b[0m     index \u001b[38;5;241m=\u001b[39m \u001b[38;5;28mself\u001b[39m\u001b[38;5;241m.\u001b[39m_next_index()  \u001b[38;5;66;03m# may raise StopIteration\u001b[39;00m\n\u001b[0;32m--> 675\u001b[0m     data \u001b[38;5;241m=\u001b[39m \u001b[38;5;28;43mself\u001b[39;49m\u001b[38;5;241;43m.\u001b[39;49m\u001b[43m_dataset_fetcher\u001b[49m\u001b[38;5;241;43m.\u001b[39;49m\u001b[43mfetch\u001b[49m\u001b[43m(\u001b[49m\u001b[43mindex\u001b[49m\u001b[43m)\u001b[49m  \u001b[38;5;66;03m# may raise StopIteration\u001b[39;00m\n\u001b[1;32m    676\u001b[0m     \u001b[38;5;28;01mif\u001b[39;00m \u001b[38;5;28mself\u001b[39m\u001b[38;5;241m.\u001b[39m_pin_memory:\n\u001b[1;32m    677\u001b[0m         data \u001b[38;5;241m=\u001b[39m _utils\u001b[38;5;241m.\u001b[39mpin_memory\u001b[38;5;241m.\u001b[39mpin_memory(data, \u001b[38;5;28mself\u001b[39m\u001b[38;5;241m.\u001b[39m_pin_memory_device)\n",
      "File \u001b[0;32m/cluster/software/stacks/2024-05/python-cuda/3.11.6/lib/python3.11/site-packages/torch/utils/data/_utils/fetch.py:49\u001b[0m, in \u001b[0;36m_MapDatasetFetcher.fetch\u001b[0;34m(self, possibly_batched_index)\u001b[0m\n\u001b[1;32m     47\u001b[0m \u001b[38;5;28;01mif\u001b[39;00m \u001b[38;5;28mself\u001b[39m\u001b[38;5;241m.\u001b[39mauto_collation:\n\u001b[1;32m     48\u001b[0m     \u001b[38;5;28;01mif\u001b[39;00m \u001b[38;5;28mhasattr\u001b[39m(\u001b[38;5;28mself\u001b[39m\u001b[38;5;241m.\u001b[39mdataset, \u001b[38;5;124m\"\u001b[39m\u001b[38;5;124m__getitems__\u001b[39m\u001b[38;5;124m\"\u001b[39m) \u001b[38;5;129;01mand\u001b[39;00m \u001b[38;5;28mself\u001b[39m\u001b[38;5;241m.\u001b[39mdataset\u001b[38;5;241m.\u001b[39m__getitems__:\n\u001b[0;32m---> 49\u001b[0m         data \u001b[38;5;241m=\u001b[39m \u001b[38;5;28;43mself\u001b[39;49m\u001b[38;5;241;43m.\u001b[39;49m\u001b[43mdataset\u001b[49m\u001b[38;5;241;43m.\u001b[39;49m\u001b[43m__getitems__\u001b[49m\u001b[43m(\u001b[49m\u001b[43mpossibly_batched_index\u001b[49m\u001b[43m)\u001b[49m\n\u001b[1;32m     50\u001b[0m     \u001b[38;5;28;01melse\u001b[39;00m:\n\u001b[1;32m     51\u001b[0m         data \u001b[38;5;241m=\u001b[39m [\u001b[38;5;28mself\u001b[39m\u001b[38;5;241m.\u001b[39mdataset[idx] \u001b[38;5;28;01mfor\u001b[39;00m idx \u001b[38;5;129;01min\u001b[39;00m possibly_batched_index]\n",
      "File \u001b[0;32m~/workspace/rds/GenCFD/GenCFD/dataloader/seismics.py:150\u001b[0m, in \u001b[0;36mUnconditionalSeismic3D.__getitems__\u001b[0;34m(self, indices, verbose)\u001b[0m\n\u001b[1;32m    147\u001b[0m \u001b[38;5;28;01mif\u001b[39;00m \u001b[38;5;28misinstance\u001b[39m(indices, \u001b[38;5;28mslice\u001b[39m):\n\u001b[1;32m    148\u001b[0m     indices \u001b[38;5;241m=\u001b[39m \u001b[38;5;28mrange\u001b[39m(indices\u001b[38;5;241m.\u001b[39mstart \u001b[38;5;129;01mor\u001b[39;00m \u001b[38;5;241m0\u001b[39m, indices\u001b[38;5;241m.\u001b[39mstop \u001b[38;5;129;01mor\u001b[39;00m \u001b[38;5;28mlen\u001b[39m(\u001b[38;5;28mself\u001b[39m), indices\u001b[38;5;241m.\u001b[39mstep \u001b[38;5;129;01mor\u001b[39;00m \u001b[38;5;241m1\u001b[39m)\n\u001b[0;32m--> 150\u001b[0m \u001b[38;5;28;01mreturn\u001b[39;00m \u001b[43m[\u001b[49m\u001b[38;5;28;43mself\u001b[39;49m\u001b[38;5;241;43m.\u001b[39;49m\u001b[38;5;21;43m__getitem__\u001b[39;49m\u001b[43m(\u001b[49m\u001b[43mi\u001b[49m\u001b[43m,\u001b[49m\u001b[43m \u001b[49m\u001b[43mverbose\u001b[49m\u001b[38;5;241;43m=\u001b[39;49m\u001b[43mverbose\u001b[49m\u001b[43m)\u001b[49m\u001b[43m \u001b[49m\u001b[38;5;28;43;01mfor\u001b[39;49;00m\u001b[43m \u001b[49m\u001b[43mi\u001b[49m\u001b[43m \u001b[49m\u001b[38;5;129;43;01min\u001b[39;49;00m\u001b[43m \u001b[49m\u001b[43mindices\u001b[49m\u001b[43m]\u001b[49m\n",
      "File \u001b[0;32m~/workspace/rds/GenCFD/GenCFD/dataloader/seismics.py:150\u001b[0m, in \u001b[0;36m<listcomp>\u001b[0;34m(.0)\u001b[0m\n\u001b[1;32m    147\u001b[0m \u001b[38;5;28;01mif\u001b[39;00m \u001b[38;5;28misinstance\u001b[39m(indices, \u001b[38;5;28mslice\u001b[39m):\n\u001b[1;32m    148\u001b[0m     indices \u001b[38;5;241m=\u001b[39m \u001b[38;5;28mrange\u001b[39m(indices\u001b[38;5;241m.\u001b[39mstart \u001b[38;5;129;01mor\u001b[39;00m \u001b[38;5;241m0\u001b[39m, indices\u001b[38;5;241m.\u001b[39mstop \u001b[38;5;129;01mor\u001b[39;00m \u001b[38;5;28mlen\u001b[39m(\u001b[38;5;28mself\u001b[39m), indices\u001b[38;5;241m.\u001b[39mstep \u001b[38;5;129;01mor\u001b[39;00m \u001b[38;5;241m1\u001b[39m)\n\u001b[0;32m--> 150\u001b[0m \u001b[38;5;28;01mreturn\u001b[39;00m [\u001b[38;5;28;43mself\u001b[39;49m\u001b[38;5;241;43m.\u001b[39;49m\u001b[38;5;21;43m__getitem__\u001b[39;49m\u001b[43m(\u001b[49m\u001b[43mi\u001b[49m\u001b[43m,\u001b[49m\u001b[43m \u001b[49m\u001b[43mverbose\u001b[49m\u001b[38;5;241;43m=\u001b[39;49m\u001b[43mverbose\u001b[49m\u001b[43m)\u001b[49m \u001b[38;5;28;01mfor\u001b[39;00m i \u001b[38;5;129;01min\u001b[39;00m indices]\n",
      "File \u001b[0;32m~/workspace/rds/GenCFD/GenCFD/dataloader/seismics.py:127\u001b[0m, in \u001b[0;36mUnconditionalSeismic3D.__getitem__\u001b[0;34m(self, index, verbose)\u001b[0m\n\u001b[1;32m    125\u001b[0m \u001b[38;5;28;01mif\u001b[39;00m fname \u001b[38;5;129;01mnot\u001b[39;00m \u001b[38;5;129;01min\u001b[39;00m \u001b[38;5;28mself\u001b[39m\u001b[38;5;241m.\u001b[39mcached_data:\n\u001b[1;32m    126\u001b[0m     \u001b[38;5;28;01mif\u001b[39;00m verbose: \u001b[38;5;28mprint\u001b[39m(\u001b[38;5;124mf\u001b[39m\u001b[38;5;124m\"\u001b[39m\u001b[38;5;124mLoading file \u001b[39m\u001b[38;5;132;01m{\u001b[39;00mfname\u001b[38;5;132;01m}\u001b[39;00m\u001b[38;5;124m into cache\u001b[39m\u001b[38;5;124m\"\u001b[39m)\n\u001b[0;32m--> 127\u001b[0m     \u001b[38;5;28mself\u001b[39m\u001b[38;5;241m.\u001b[39mcached_data[fname] \u001b[38;5;241m=\u001b[39m \u001b[38;5;28;43mself\u001b[39;49m\u001b[38;5;241;43m.\u001b[39;49m\u001b[43m_load_file\u001b[49m\u001b[43m(\u001b[49m\u001b[43mfname\u001b[49m\u001b[43m)\u001b[49m\n\u001b[1;32m    128\u001b[0m \u001b[38;5;28;01melif\u001b[39;00m verbose: \n\u001b[1;32m    129\u001b[0m     \u001b[38;5;28mprint\u001b[39m(\u001b[38;5;124mf\u001b[39m\u001b[38;5;124m\"\u001b[39m\u001b[38;5;124mFile \u001b[39m\u001b[38;5;132;01m{\u001b[39;00mfname\u001b[38;5;132;01m}\u001b[39;00m\u001b[38;5;124m already in cache\u001b[39m\u001b[38;5;124m\"\u001b[39m)\n",
      "File \u001b[0;32m~/workspace/rds/GenCFD/GenCFD/dataloader/seismics.py:105\u001b[0m, in \u001b[0;36mUnconditionalSeismic3D._load_file\u001b[0;34m(self, fname)\u001b[0m\n\u001b[1;32m    103\u001b[0m     trace_data \u001b[38;5;241m=\u001b[39m np\u001b[38;5;241m.\u001b[39mzeros((\u001b[38;5;28mself\u001b[39m\u001b[38;5;241m.\u001b[39msamples_per_file, \u001b[38;5;241m*\u001b[39m\u001b[38;5;28mself\u001b[39m\u001b[38;5;241m.\u001b[39minput_shape))\n\u001b[1;32m    104\u001b[0m     \u001b[38;5;28;01mfor\u001b[39;00m i \u001b[38;5;129;01min\u001b[39;00m \u001b[38;5;28mrange\u001b[39m(\u001b[38;5;28mself\u001b[39m\u001b[38;5;241m.\u001b[39msamples_per_file):\n\u001b[0;32m--> 105\u001b[0m         trace_data[i] \u001b[38;5;241m=\u001b[39m \u001b[43mtrace_dict\u001b[49m\u001b[43m[\u001b[49m\u001b[38;5;124;43mf\u001b[39;49m\u001b[38;5;124;43m'\u001b[39;49m\u001b[38;5;124;43msample\u001b[39;49m\u001b[38;5;132;43;01m{\u001b[39;49;00m\u001b[43mi\u001b[49m\u001b[38;5;132;43;01m}\u001b[39;49;00m\u001b[38;5;124;43m'\u001b[39;49m\u001b[43m]\u001b[49m\u001b[43m[\u001b[49m\u001b[43m:\u001b[49m\u001b[43m]\u001b[49m\n\u001b[1;32m    106\u001b[0m \u001b[38;5;28;01mreturn\u001b[39;00m torch\u001b[38;5;241m.\u001b[39mtensor(trace_data, dtype\u001b[38;5;241m=\u001b[39mtorch\u001b[38;5;241m.\u001b[39mfloat32)\n",
      "File \u001b[0;32mh5py/_objects.pyx:54\u001b[0m, in \u001b[0;36mh5py._objects.with_phil.wrapper\u001b[0;34m()\u001b[0m\n",
      "File \u001b[0;32mh5py/_objects.pyx:55\u001b[0m, in \u001b[0;36mh5py._objects.with_phil.wrapper\u001b[0;34m()\u001b[0m\n",
      "File \u001b[0;32m/cluster/software/stacks/2024-05/python-cuda/3.11.6/lib/python3.11/site-packages/h5py/_hl/dataset.py:756\u001b[0m, in \u001b[0;36mDataset.__getitem__\u001b[0;34m(self, args, new_dtype)\u001b[0m\n\u001b[1;32m    744\u001b[0m \u001b[38;5;250m\u001b[39m\u001b[38;5;124;03m\"\"\" Read a slice from the HDF5 dataset.\u001b[39;00m\n\u001b[1;32m    745\u001b[0m \n\u001b[1;32m    746\u001b[0m \u001b[38;5;124;03mTakes slices and recarray-style field names (more than one is\u001b[39;00m\n\u001b[0;32m   (...)\u001b[0m\n\u001b[1;32m    752\u001b[0m \u001b[38;5;124;03m* Boolean \"mask\" array indexing\u001b[39;00m\n\u001b[1;32m    753\u001b[0m \u001b[38;5;124;03m\"\"\"\u001b[39;00m\n\u001b[1;32m    754\u001b[0m args \u001b[38;5;241m=\u001b[39m args \u001b[38;5;28;01mif\u001b[39;00m \u001b[38;5;28misinstance\u001b[39m(args, \u001b[38;5;28mtuple\u001b[39m) \u001b[38;5;28;01melse\u001b[39;00m (args,)\n\u001b[0;32m--> 756\u001b[0m \u001b[38;5;28;01mif\u001b[39;00m \u001b[38;5;28;43mself\u001b[39;49m\u001b[38;5;241;43m.\u001b[39;49m\u001b[43m_fast_read_ok\u001b[49m \u001b[38;5;129;01mand\u001b[39;00m (new_dtype \u001b[38;5;129;01mis\u001b[39;00m \u001b[38;5;28;01mNone\u001b[39;00m):\n\u001b[1;32m    757\u001b[0m     \u001b[38;5;28;01mtry\u001b[39;00m:\n\u001b[1;32m    758\u001b[0m         \u001b[38;5;28;01mreturn\u001b[39;00m \u001b[38;5;28mself\u001b[39m\u001b[38;5;241m.\u001b[39m_fast_reader\u001b[38;5;241m.\u001b[39mread(args)\n",
      "File \u001b[0;32m/cluster/software/stacks/2024-05/python-cuda/3.11.6/lib/python3.11/site-packages/h5py/_hl/base.py:536\u001b[0m, in \u001b[0;36mcached_property.__get__\u001b[0;34m(self, obj, cls)\u001b[0m\n\u001b[1;32m    533\u001b[0m \u001b[38;5;28;01mif\u001b[39;00m obj \u001b[38;5;129;01mis\u001b[39;00m \u001b[38;5;28;01mNone\u001b[39;00m:\n\u001b[1;32m    534\u001b[0m     \u001b[38;5;28;01mreturn\u001b[39;00m \u001b[38;5;28mself\u001b[39m\n\u001b[0;32m--> 536\u001b[0m value \u001b[38;5;241m=\u001b[39m obj\u001b[38;5;241m.\u001b[39m\u001b[38;5;18m__dict__\u001b[39m[\u001b[38;5;28mself\u001b[39m\u001b[38;5;241m.\u001b[39mfunc\u001b[38;5;241m.\u001b[39m\u001b[38;5;18m__name__\u001b[39m] \u001b[38;5;241m=\u001b[39m \u001b[38;5;28;43mself\u001b[39;49m\u001b[38;5;241;43m.\u001b[39;49m\u001b[43mfunc\u001b[49m\u001b[43m(\u001b[49m\u001b[43mobj\u001b[49m\u001b[43m)\u001b[49m\n\u001b[1;32m    537\u001b[0m \u001b[38;5;28;01mreturn\u001b[39;00m value\n",
      "File \u001b[0;32m/cluster/software/stacks/2024-05/python-cuda/3.11.6/lib/python3.11/site-packages/h5py/_hl/dataset.py:738\u001b[0m, in \u001b[0;36mDataset._fast_read_ok\u001b[0;34m(self)\u001b[0m\n\u001b[1;32m    734\u001b[0m \u001b[38;5;129m@cached_property\u001b[39m\n\u001b[1;32m    735\u001b[0m \u001b[38;5;28;01mdef\u001b[39;00m \u001b[38;5;21m_fast_read_ok\u001b[39m(\u001b[38;5;28mself\u001b[39m):\n\u001b[1;32m    736\u001b[0m \u001b[38;5;250m    \u001b[39m\u001b[38;5;124;03m\"\"\"Is this dataset suitable for simple reading\"\"\"\u001b[39;00m\n\u001b[1;32m    737\u001b[0m     \u001b[38;5;28;01mreturn\u001b[39;00m (\n\u001b[0;32m--> 738\u001b[0m         \u001b[38;5;28;43mself\u001b[39;49m\u001b[38;5;241;43m.\u001b[39;49m\u001b[43m_extent_type\u001b[49m \u001b[38;5;241m==\u001b[39m h5s\u001b[38;5;241m.\u001b[39mSIMPLE\n\u001b[1;32m    739\u001b[0m         \u001b[38;5;129;01mand\u001b[39;00m \u001b[38;5;28misinstance\u001b[39m(\u001b[38;5;28mself\u001b[39m\u001b[38;5;241m.\u001b[39mid\u001b[38;5;241m.\u001b[39mget_type(), (h5t\u001b[38;5;241m.\u001b[39mTypeIntegerID, h5t\u001b[38;5;241m.\u001b[39mTypeFloatID))\n\u001b[1;32m    740\u001b[0m     )\n",
      "File \u001b[0;32m/cluster/software/stacks/2024-05/python-cuda/3.11.6/lib/python3.11/site-packages/h5py/_hl/base.py:536\u001b[0m, in \u001b[0;36mcached_property.__get__\u001b[0;34m(self, obj, cls)\u001b[0m\n\u001b[1;32m    533\u001b[0m \u001b[38;5;28;01mif\u001b[39;00m obj \u001b[38;5;129;01mis\u001b[39;00m \u001b[38;5;28;01mNone\u001b[39;00m:\n\u001b[1;32m    534\u001b[0m     \u001b[38;5;28;01mreturn\u001b[39;00m \u001b[38;5;28mself\u001b[39m\n\u001b[0;32m--> 536\u001b[0m value \u001b[38;5;241m=\u001b[39m obj\u001b[38;5;241m.\u001b[39m\u001b[38;5;18m__dict__\u001b[39m[\u001b[38;5;28mself\u001b[39m\u001b[38;5;241m.\u001b[39mfunc\u001b[38;5;241m.\u001b[39m\u001b[38;5;18m__name__\u001b[39m] \u001b[38;5;241m=\u001b[39m \u001b[38;5;28;43mself\u001b[39;49m\u001b[38;5;241;43m.\u001b[39;49m\u001b[43mfunc\u001b[49m\u001b[43m(\u001b[49m\u001b[43mobj\u001b[49m\u001b[43m)\u001b[49m\n\u001b[1;32m    537\u001b[0m \u001b[38;5;28;01mreturn\u001b[39;00m value\n",
      "File \u001b[0;32mh5py/_objects.pyx:54\u001b[0m, in \u001b[0;36mh5py._objects.with_phil.wrapper\u001b[0;34m()\u001b[0m\n",
      "File \u001b[0;32mh5py/_objects.pyx:55\u001b[0m, in \u001b[0;36mh5py._objects.with_phil.wrapper\u001b[0;34m()\u001b[0m\n",
      "File \u001b[0;32m/cluster/software/stacks/2024-05/python-cuda/3.11.6/lib/python3.11/site-packages/h5py/_hl/dataset.py:629\u001b[0m, in \u001b[0;36mDataset._extent_type\u001b[0;34m(self)\u001b[0m\n\u001b[1;32m    625\u001b[0m \u001b[38;5;129m@cached_property\u001b[39m\n\u001b[1;32m    626\u001b[0m \u001b[38;5;129m@with_phil\u001b[39m\n\u001b[1;32m    627\u001b[0m \u001b[38;5;28;01mdef\u001b[39;00m \u001b[38;5;21m_extent_type\u001b[39m(\u001b[38;5;28mself\u001b[39m):\n\u001b[1;32m    628\u001b[0m \u001b[38;5;250m    \u001b[39m\u001b[38;5;124;03m\"\"\"Get extent type for this dataset - SIMPLE, SCALAR or NULL\"\"\"\u001b[39;00m\n\u001b[0;32m--> 629\u001b[0m     \u001b[38;5;28;01mreturn\u001b[39;00m \u001b[38;5;28;43mself\u001b[39;49m\u001b[38;5;241;43m.\u001b[39;49m\u001b[43mid\u001b[49m\u001b[38;5;241;43m.\u001b[39;49m\u001b[43mget_space\u001b[49m\u001b[43m(\u001b[49m\u001b[43m)\u001b[49m\u001b[38;5;241m.\u001b[39mget_simple_extent_type()\n",
      "\u001b[0;31mKeyboardInterrupt\u001b[0m: "
     ]
    }
   ],
   "source": [
    "from torch.utils.data import DataLoader\n",
    "from tqdm.notebook import trange\n",
    "\n",
    "dataset = UnconditionalSeismic3D(**UnconditionalSeismic3D_Metadata)\n",
    "dataloader = DataLoader(dataset, batch_size=16, shuffle=True)\n",
    "dataloader_iter = iter(dataloader)\n",
    "\n",
    "for _ in trange(len(dataloader)):\n",
    "    res = next(dataloader_iter)"
   ]
  },
  {
   "cell_type": "code",
   "execution_count": 33,
   "metadata": {},
   "outputs": [
    {
     "ename": "StopIteration",
     "evalue": "",
     "output_type": "error",
     "traceback": [
      "\u001b[0;31m---------------------------------------------------------------------------\u001b[0m",
      "\u001b[0;31mStopIteration\u001b[0m                             Traceback (most recent call last)",
      "Cell \u001b[0;32mIn[33], line 1\u001b[0m\n\u001b[0;32m----> 1\u001b[0m \u001b[38;5;28;43mnext\u001b[39;49m\u001b[43m(\u001b[49m\u001b[43mdataloader_iter\u001b[49m\u001b[43m)\u001b[49m\n",
      "File \u001b[0;32m/cluster/software/stacks/2024-05/python-cuda/3.11.6/lib/python3.11/site-packages/torch/utils/data/dataloader.py:631\u001b[0m, in \u001b[0;36m_BaseDataLoaderIter.__next__\u001b[0;34m(self)\u001b[0m\n\u001b[1;32m    628\u001b[0m \u001b[38;5;28;01mif\u001b[39;00m \u001b[38;5;28mself\u001b[39m\u001b[38;5;241m.\u001b[39m_sampler_iter \u001b[38;5;129;01mis\u001b[39;00m \u001b[38;5;28;01mNone\u001b[39;00m:\n\u001b[1;32m    629\u001b[0m     \u001b[38;5;66;03m# TODO(https://github.com/pytorch/pytorch/issues/76750)\u001b[39;00m\n\u001b[1;32m    630\u001b[0m     \u001b[38;5;28mself\u001b[39m\u001b[38;5;241m.\u001b[39m_reset()  \u001b[38;5;66;03m# type: ignore[call-arg]\u001b[39;00m\n\u001b[0;32m--> 631\u001b[0m data \u001b[38;5;241m=\u001b[39m \u001b[38;5;28;43mself\u001b[39;49m\u001b[38;5;241;43m.\u001b[39;49m\u001b[43m_next_data\u001b[49m\u001b[43m(\u001b[49m\u001b[43m)\u001b[49m\n\u001b[1;32m    632\u001b[0m \u001b[38;5;28mself\u001b[39m\u001b[38;5;241m.\u001b[39m_num_yielded \u001b[38;5;241m+\u001b[39m\u001b[38;5;241m=\u001b[39m \u001b[38;5;241m1\u001b[39m\n\u001b[1;32m    633\u001b[0m \u001b[38;5;28;01mif\u001b[39;00m \u001b[38;5;28mself\u001b[39m\u001b[38;5;241m.\u001b[39m_dataset_kind \u001b[38;5;241m==\u001b[39m _DatasetKind\u001b[38;5;241m.\u001b[39mIterable \u001b[38;5;129;01mand\u001b[39;00m \\\n\u001b[1;32m    634\u001b[0m         \u001b[38;5;28mself\u001b[39m\u001b[38;5;241m.\u001b[39m_IterableDataset_len_called \u001b[38;5;129;01mis\u001b[39;00m \u001b[38;5;129;01mnot\u001b[39;00m \u001b[38;5;28;01mNone\u001b[39;00m \u001b[38;5;129;01mand\u001b[39;00m \\\n\u001b[1;32m    635\u001b[0m         \u001b[38;5;28mself\u001b[39m\u001b[38;5;241m.\u001b[39m_num_yielded \u001b[38;5;241m>\u001b[39m \u001b[38;5;28mself\u001b[39m\u001b[38;5;241m.\u001b[39m_IterableDataset_len_called:\n",
      "File \u001b[0;32m/cluster/software/stacks/2024-05/python-cuda/3.11.6/lib/python3.11/site-packages/torch/utils/data/dataloader.py:674\u001b[0m, in \u001b[0;36m_SingleProcessDataLoaderIter._next_data\u001b[0;34m(self)\u001b[0m\n\u001b[1;32m    673\u001b[0m \u001b[38;5;28;01mdef\u001b[39;00m \u001b[38;5;21m_next_data\u001b[39m(\u001b[38;5;28mself\u001b[39m):\n\u001b[0;32m--> 674\u001b[0m     index \u001b[38;5;241m=\u001b[39m \u001b[38;5;28;43mself\u001b[39;49m\u001b[38;5;241;43m.\u001b[39;49m\u001b[43m_next_index\u001b[49m\u001b[43m(\u001b[49m\u001b[43m)\u001b[49m  \u001b[38;5;66;03m# may raise StopIteration\u001b[39;00m\n\u001b[1;32m    675\u001b[0m     data \u001b[38;5;241m=\u001b[39m \u001b[38;5;28mself\u001b[39m\u001b[38;5;241m.\u001b[39m_dataset_fetcher\u001b[38;5;241m.\u001b[39mfetch(index)  \u001b[38;5;66;03m# may raise StopIteration\u001b[39;00m\n\u001b[1;32m    676\u001b[0m     \u001b[38;5;28;01mif\u001b[39;00m \u001b[38;5;28mself\u001b[39m\u001b[38;5;241m.\u001b[39m_pin_memory:\n",
      "File \u001b[0;32m/cluster/software/stacks/2024-05/python-cuda/3.11.6/lib/python3.11/site-packages/torch/utils/data/dataloader.py:621\u001b[0m, in \u001b[0;36m_BaseDataLoaderIter._next_index\u001b[0;34m(self)\u001b[0m\n\u001b[1;32m    620\u001b[0m \u001b[38;5;28;01mdef\u001b[39;00m \u001b[38;5;21m_next_index\u001b[39m(\u001b[38;5;28mself\u001b[39m):\n\u001b[0;32m--> 621\u001b[0m     \u001b[38;5;28;01mreturn\u001b[39;00m \u001b[38;5;28mnext\u001b[39m(\u001b[38;5;28mself\u001b[39m\u001b[38;5;241m.\u001b[39m_sampler_iter)\n",
      "\u001b[0;31mStopIteration\u001b[0m: "
     ]
    }
   ],
   "source": [
    "next(dataloader_iter)"
   ]
  },
  {
   "cell_type": "code",
   "execution_count": 43,
   "metadata": {},
   "outputs": [
    {
     "data": {
      "text/plain": [
       "(torch.Size([1, 32, 32, 64]), torch.Size([1, 32, 32, 64]))"
      ]
     },
     "execution_count": 43,
     "metadata": {},
     "output_type": "execute_result"
    }
   ],
   "source": [
    "res = dataset[0:2]\n",
    "\n",
    "res[0]['initial_cond'].shape, res[0]['target_cond'].shape"
   ]
  },
  {
   "cell_type": "code",
   "execution_count": 10,
   "metadata": {},
   "outputs": [
    {
     "ename": "NameError",
     "evalue": "name 'train_test_split' is not defined",
     "output_type": "error",
     "traceback": [
      "\u001b[0;31m---------------------------------------------------------------------------\u001b[0m",
      "\u001b[0;31mNameError\u001b[0m                                 Traceback (most recent call last)",
      "Cell \u001b[0;32mIn[10], line 1\u001b[0m\n\u001b[0;32m----> 1\u001b[0m train_dataset, eval_dataset \u001b[38;5;241m=\u001b[39m \u001b[43mtrain_test_split\u001b[49m(dataset, split_ratio\u001b[38;5;241m=\u001b[39m\u001b[38;5;241m0.8\u001b[39m)\n\u001b[1;32m      2\u001b[0m train_dataset[\u001b[38;5;241m0\u001b[39m]\n",
      "\u001b[0;31mNameError\u001b[0m: name 'train_test_split' is not defined"
     ]
    }
   ],
   "source": [
    "train_dataset, eval_dataset = train_test_split(dataset, split_ratio=0.8)\n",
    "train_dataset[0]"
   ]
  },
  {
   "cell_type": "code",
   "execution_count": 4,
   "metadata": {},
   "outputs": [
    {
     "ename": "TypeError",
     "evalue": "IncompressibleFlows3D.__init__() missing 8 required positional arguments: 'input_channel', 'output_channel', 'spatial_resolution', 'input_shape', 'output_shape', 'variable_names', 'min_time', and 'max_time'",
     "output_type": "error",
     "traceback": [
      "\u001b[0;31m---------------------------------------------------------------------------\u001b[0m",
      "\u001b[0;31mTypeError\u001b[0m                                 Traceback (most recent call last)",
      "Cell \u001b[0;32mIn[4], line 14\u001b[0m\n\u001b[1;32m      3\u001b[0m \u001b[38;5;28;01mfrom\u001b[39;00m \u001b[38;5;21;01mGenCFD\u001b[39;00m\u001b[38;5;21;01m.\u001b[39;00m\u001b[38;5;21;01mdataloader\u001b[39;00m\u001b[38;5;21;01m.\u001b[39;00m\u001b[38;5;21;01mfluid_flows_3d\u001b[39;00m \u001b[38;5;28;01mimport\u001b[39;00m IncompressibleFlows3D\n\u001b[1;32m      5\u001b[0m TaylorGreen3D_Metadata \u001b[38;5;241m=\u001b[39m {\n\u001b[1;32m      6\u001b[0m     \u001b[38;5;124m'\u001b[39m\u001b[38;5;124mdataset_name\u001b[39m\u001b[38;5;124m'\u001b[39m: \u001b[38;5;124m'\u001b[39m\u001b[38;5;124mTaylorGreen3D\u001b[39m\u001b[38;5;124m'\u001b[39m,\n\u001b[1;32m      7\u001b[0m     \u001b[38;5;124m'\u001b[39m\u001b[38;5;124mfile_name\u001b[39m\u001b[38;5;124m'\u001b[39m: \u001b[38;5;124m'\u001b[39m\u001b[38;5;124mN128_64.nc\u001b[39m\u001b[38;5;124m'\u001b[39m,\n\u001b[0;32m   (...)\u001b[0m\n\u001b[1;32m     11\u001b[0m     \u001b[38;5;124m'\u001b[39m\u001b[38;5;124morigin_stats\u001b[39m\u001b[38;5;124m'\u001b[39m: \u001b[38;5;124m'\u001b[39m\u001b[38;5;124m/cluster/work/math/camlab-data/data/diffusion_project/TrainingStats_nothing_DataIC_3D_Time_TG\u001b[39m\u001b[38;5;124m'\u001b[39m\n\u001b[1;32m     12\u001b[0m }\n\u001b[0;32m---> 14\u001b[0m dataset \u001b[38;5;241m=\u001b[39m \u001b[43mIncompressibleFlows3D\u001b[49m\u001b[43m(\u001b[49m\n\u001b[1;32m     15\u001b[0m \u001b[43m    \u001b[49m\u001b[43mfile_system\u001b[49m\u001b[43m \u001b[49m\u001b[38;5;241;43m=\u001b[39;49m\u001b[43m \u001b[49m\u001b[43m{\u001b[49m\n\u001b[1;32m     16\u001b[0m \u001b[43m        \u001b[49m\u001b[38;5;124;43m\"\u001b[39;49m\u001b[38;5;124;43mdataset_name\u001b[39;49m\u001b[38;5;124;43m\"\u001b[39;49m\u001b[43m:\u001b[49m\u001b[43m \u001b[49m\u001b[38;5;124;43m\"\u001b[39;49m\u001b[38;5;124;43mTaylorGreen3D\u001b[39;49m\u001b[38;5;124;43m\"\u001b[39;49m\u001b[43m,\u001b[49m\n\u001b[1;32m     17\u001b[0m \u001b[43m        \u001b[49m\u001b[38;5;124;43m'\u001b[39;49m\u001b[38;5;124;43mfile_name\u001b[39;49m\u001b[38;5;124;43m'\u001b[39;49m\u001b[43m:\u001b[49m\u001b[43m \u001b[49m\u001b[38;5;124;43m'\u001b[39;49m\u001b[38;5;124;43mtaylor_green.nc\u001b[39;49m\u001b[38;5;124;43m'\u001b[39;49m\u001b[43m,\u001b[49m\n\u001b[1;32m     18\u001b[0m \u001b[43m        \u001b[49m\u001b[38;5;124;43m'\u001b[39;49m\u001b[38;5;124;43morigin\u001b[39;49m\u001b[38;5;124;43m'\u001b[39;49m\u001b[43m:\u001b[49m\u001b[43m \u001b[49m\u001b[43mTaylorGreen3D_Metadata\u001b[49m\u001b[43m[\u001b[49m\u001b[38;5;124;43m'\u001b[39;49m\u001b[38;5;124;43morigin\u001b[39;49m\u001b[38;5;124;43m'\u001b[39;49m\u001b[43m]\u001b[49m\u001b[43m,\u001b[49m\n\u001b[1;32m     19\u001b[0m \u001b[43m        \u001b[49m\u001b[38;5;66;43;03m# Additional not relevant file_system settings in case the mean and std were accumulated\u001b[39;49;00m\n\u001b[1;32m     20\u001b[0m \u001b[43m        \u001b[49m\u001b[38;5;124;43m'\u001b[39;49m\u001b[38;5;124;43mstats_file\u001b[39;49m\u001b[38;5;124;43m'\u001b[39;49m\u001b[43m:\u001b[49m\u001b[43m \u001b[49m\u001b[38;5;124;43m'\u001b[39;49m\u001b[38;5;124;43mGroundTruthStats_ConditionalTaylorGreen\u001b[39;49m\u001b[38;5;124;43m'\u001b[39;49m\u001b[43m,\u001b[49m\n\u001b[1;32m     21\u001b[0m \u001b[43m        \u001b[49m\u001b[38;5;124;43m'\u001b[39;49m\u001b[38;5;124;43morigin_stats\u001b[39;49m\u001b[38;5;124;43m'\u001b[39;49m\u001b[43m:\u001b[49m\u001b[43m \u001b[49m\u001b[43mTaylorGreen3D_Metadata\u001b[49m\u001b[43m[\u001b[49m\u001b[38;5;124;43m'\u001b[39;49m\u001b[38;5;124;43morigin_stats\u001b[39;49m\u001b[38;5;124;43m'\u001b[39;49m\u001b[43m]\u001b[49m\u001b[43m,\u001b[49m\n\u001b[1;32m     22\u001b[0m \u001b[43m        \u001b[49m\u001b[38;5;66;43;03m# If the the single mean and std values in vector form are available\u001b[39;49;00m\n\u001b[1;32m     23\u001b[0m \u001b[43m        \u001b[49m\u001b[38;5;124;43m'\u001b[39;49m\u001b[38;5;124;43mmean_file\u001b[39;49m\u001b[38;5;124;43m'\u001b[39;49m\u001b[43m:\u001b[49m\u001b[43m \u001b[49m\u001b[43mTaylorGreen3D_Metadata\u001b[49m\u001b[43m[\u001b[49m\u001b[38;5;124;43m'\u001b[39;49m\u001b[38;5;124;43mmean_file\u001b[39;49m\u001b[38;5;124;43m'\u001b[39;49m\u001b[43m]\u001b[49m\u001b[43m,\u001b[49m\n\u001b[1;32m     24\u001b[0m \u001b[43m        \u001b[49m\u001b[38;5;124;43m'\u001b[39;49m\u001b[38;5;124;43mstd_file\u001b[39;49m\u001b[38;5;124;43m'\u001b[39;49m\u001b[43m:\u001b[49m\u001b[43m \u001b[49m\u001b[43mTaylorGreen3D_Metadata\u001b[49m\u001b[43m[\u001b[49m\u001b[38;5;124;43m'\u001b[39;49m\u001b[38;5;124;43mstd_file\u001b[39;49m\u001b[38;5;124;43m'\u001b[39;49m\u001b[43m]\u001b[49m\n\u001b[1;32m     25\u001b[0m \u001b[43m    \u001b[49m\u001b[43m}\u001b[49m\n\u001b[1;32m     26\u001b[0m \u001b[43m)\u001b[49m\n\u001b[1;32m     27\u001b[0m sample \u001b[38;5;241m=\u001b[39m dataset\u001b[38;5;241m.\u001b[39m\u001b[38;5;21m__getitem__\u001b[39m(\u001b[38;5;241m0\u001b[39m)\n\u001b[1;32m     28\u001b[0m \u001b[38;5;28mprint\u001b[39m(sample)\n",
      "\u001b[0;31mTypeError\u001b[0m: IncompressibleFlows3D.__init__() missing 8 required positional arguments: 'input_channel', 'output_channel', 'spatial_resolution', 'input_shape', 'output_shape', 'variable_names', 'min_time', and 'max_time'"
     ]
    }
   ],
   "source": [
    "import sys\n",
    "sys.path.append('/cluster/home/lcarretero/workspace/rds/GenCFD')\n",
    "from GenCFD.dataloader.fluid_flows_3d import IncompressibleFlows3D\n",
    "\n",
    "TaylorGreen3D_Metadata = {\n",
    "    'dataset_name': 'TaylorGreen3D',\n",
    "    'file_name': 'N128_64.nc',\n",
    "    'origin': '/cluster/work/math/camlab-data/data/incompressible/tg',\n",
    "    'mean_file': 'mean_99000_0_64_False.npy',\n",
    "    'std_file': 'std_99000_0_64_False.npy',\n",
    "    'origin_stats': '/cluster/work/math/camlab-data/data/diffusion_project/TrainingStats_nothing_DataIC_3D_Time_TG'\n",
    "}\n",
    "\n",
    "dataset = IncompressibleFlows3D(\n",
    "    file_system = {\n",
    "        \"dataset_name\": \"TaylorGreen3D\",\n",
    "        'file_name': 'taylor_green.nc',\n",
    "        'origin': TaylorGreen3D_Metadata['origin'],\n",
    "        # Additional not relevant file_system settings in case the mean and std were accumulated\n",
    "        'stats_file': 'GroundTruthStats_ConditionalTaylorGreen',\n",
    "        'origin_stats': TaylorGreen3D_Metadata['origin_stats'],\n",
    "        # If the the single mean and std values in vector form are available\n",
    "        'mean_file': TaylorGreen3D_Metadata['mean_file'],\n",
    "        'std_file': TaylorGreen3D_Metadata['std_file']\n",
    "    }\n",
    ")\n",
    "sample = dataset.__getitem__(0)\n",
    "print(sample)"
   ]
  }
 ],
 "metadata": {
  "kernelspec": {
   "display_name": "Python (rds-misc)",
   "language": "python",
   "name": "rds-misc"
  },
  "language_info": {
   "codemirror_mode": {
    "name": "ipython",
    "version": 3
   },
   "file_extension": ".py",
   "mimetype": "text/x-python",
   "name": "python",
   "nbconvert_exporter": "python",
   "pygments_lexer": "ipython3",
   "version": "3.11.6"
  }
 },
 "nbformat": 4,
 "nbformat_minor": 2
}
