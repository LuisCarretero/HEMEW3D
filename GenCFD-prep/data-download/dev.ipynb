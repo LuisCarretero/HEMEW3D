{
 "cells": [
  {
   "cell_type": "code",
   "execution_count": 2,
   "metadata": {},
   "outputs": [],
   "source": [
    "import os\n",
    "import requests\n",
    "import numpy as np\n",
    "import re\n",
    "import pandas as pd\n",
    "from tqdm.notebook import tqdm\n",
    "\n",
    "import sys\n",
    "sys.path.append(r'/cluster/home/lcarretero/workspace/rds/HEMEW3D/GenCFD-prep/data-download')\n",
    "from utils import extract_velocity_links_from_toc_html, download_velocity_files"
   ]
  },
  {
   "cell_type": "code",
   "execution_count": 61,
   "metadata": {},
   "outputs": [
    {
     "name": "stdout",
     "output_type": "stream",
     "text": [
      "[INFO] Found 300 matches.\n",
      "[INFO] Found 300 matches.\n"
     ]
    }
   ],
   "source": [
    "extract_velocity_links_from_toc_html(\n",
    "    raw_toc_fpath=r'/cluster/home/lcarretero/workspace/rds/HEMEW3D/GenCFD-prep/data-download/raw_table_of_contents_V1-velocity.txt', \n",
    "    output_fpath=r'/cluster/home/lcarretero/workspace/rds/HEMEW3D/GenCFD-prep/data-download/download_urls_V1-velocity.csv',\n",
    "    fname_pattern=r'velocity[0-9]+-[0-9]+\\.feather'\n",
    ")\n",
    "\n",
    "extract_velocity_links_from_toc_html(\n",
    "    raw_toc_fpath=r'/cluster/home/lcarretero/workspace/rds/HEMEW3D/GenCFD-prep/data-download/raw_table_of_contents_V2-velocity.txt', \n",
    "    output_fpath=r'/cluster/home/lcarretero/workspace/rds/HEMEW3D/GenCFD-prep/data-download/download_urls_V2-velocity.csv',\n",
    "    fname_pattern=r'velocity[0-9]+-[0-9]+\\.zip'\n",
    ")"
   ]
  },
  {
   "cell_type": "code",
   "execution_count": null,
   "metadata": {},
   "outputs": [
    {
     "name": "stdout",
     "output_type": "stream",
     "text": [
      "[INFO] Found 300 files to download. 61 files already downloaded. Downloading the remaining 239 files.\n"
     ]
    },
    {
     "name": "stderr",
     "output_type": "stream",
     "text": [
      "Downloading files:   1%|▏         | 3/239 [00:36<47:11, 12.00s/it]"
     ]
    }
   ],
   "source": [
    "download_velocity_files(\n",
    "    download_urls_fpath=r'/cluster/home/lcarretero/workspace/rds/HEMEW3D/GenCFD-prep/data-download/download_urls_V1-velocity.csv',\n",
    "    save_dir=r'/cluster/work/math/camlab-data/Wave_HemewS-3D/version1/velocity',\n",
    "    max_downloads=None\n",
    ")\n",
    "download_velocity_files(\n",
    "    download_urls_fpath=r'/cluster/home/lcarretero/workspace/rds/HEMEW3D/GenCFD-prep/data-download/download_urls_V2-velocity.csv',\n",
    "    save_dir=r'/cluster/work/math/camlab-data/Wave_HemewS-3D/version2/velocity',\n",
    "    max_downloads=None\n",
    ")"
   ]
  },
  {
   "cell_type": "code",
   "execution_count": null,
   "metadata": {},
   "outputs": [],
   "source": []
  },
  {
   "cell_type": "code",
   "execution_count": null,
   "metadata": {},
   "outputs": [],
   "source": []
  }
 ],
 "metadata": {
  "kernelspec": {
   "display_name": "Python (rds-misc)",
   "language": "python",
   "name": "rds-misc"
  },
  "language_info": {
   "codemirror_mode": {
    "name": "ipython",
    "version": 3
   },
   "file_extension": ".py",
   "mimetype": "text/x-python",
   "name": "python",
   "nbconvert_exporter": "python",
   "pygments_lexer": "ipython3",
   "version": "3.11.6"
  }
 },
 "nbformat": 4,
 "nbformat_minor": 2
}
