{
 "cells": [
  {
   "cell_type": "code",
   "execution_count": 1,
   "metadata": {},
   "outputs": [],
   "source": [
    "import os\n",
    "import requests\n",
    "import numpy as np\n",
    "import re\n",
    "import pandas as pd\n",
    "from tqdm.notebook import tqdm\n",
    "\n",
    "import sys\n",
    "sys.path.append(r'/cluster/home/lcarretero/workspace/rds/HEMEW3D/GenCFD-prep/data-download')\n",
    "from utils import extract_velocity_links_from_toc_html, download_velocity_files"
   ]
  },
  {
   "cell_type": "code",
   "execution_count": 61,
   "metadata": {},
   "outputs": [
    {
     "name": "stdout",
     "output_type": "stream",
     "text": [
      "[INFO] Found 300 matches.\n",
      "[INFO] Found 300 matches.\n"
     ]
    }
   ],
   "source": [
    "extract_velocity_links_from_toc_html(\n",
    "    raw_toc_fpath=r'/cluster/home/lcarretero/workspace/rds/HEMEW3D/GenCFD-prep/data-download/raw_table_of_contents_V1-velocity.txt', \n",
    "    output_fpath=r'/cluster/home/lcarretero/workspace/rds/HEMEW3D/GenCFD-prep/data-download/download_urls_V1-velocity.csv',\n",
    "    fname_pattern=r'velocity[0-9]+-[0-9]+\\.feather'\n",
    ")\n",
    "\n",
    "extract_velocity_links_from_toc_html(\n",
    "    raw_toc_fpath=r'/cluster/home/lcarretero/workspace/rds/HEMEW3D/GenCFD-prep/data-download/raw_table_of_contents_V2-velocity.txt', \n",
    "    output_fpath=r'/cluster/home/lcarretero/workspace/rds/HEMEW3D/GenCFD-prep/data-download/download_urls_V2-velocity.csv',\n",
    "    fname_pattern=r'velocity[0-9]+-[0-9]+\\.zip'\n",
    ")"
   ]
  },
  {
   "cell_type": "code",
   "execution_count": null,
   "metadata": {},
   "outputs": [
    {
     "name": "stdout",
     "output_type": "stream",
     "text": [
      "[INFO] Found 300 files to download. 61 files already downloaded. Downloading the remaining 239 files.\n"
     ]
    },
    {
     "name": "stderr",
     "output_type": "stream",
     "text": [
      "Downloading files:   1%|▏         | 3/239 [00:36<47:11, 12.00s/it]"
     ]
    }
   ],
   "source": [
    "download_velocity_files(\n",
    "    download_urls_fpath=r'/cluster/home/lcarretero/workspace/rds/HEMEW3D/GenCFD-prep/data-download/download_urls_V1-velocity.csv',\n",
    "    save_dir=r'/cluster/work/math/camlab-data/Wave_HemewS-3D/version1/velocity',\n",
    "    max_downloads=None\n",
    ")\n",
    "download_velocity_files(\n",
    "    download_urls_fpath=r'/cluster/home/lcarretero/workspace/rds/HEMEW3D/GenCFD-prep/data-download/download_urls_V2-velocity.csv',\n",
    "    save_dir=r'/cluster/work/math/camlab-data/Wave_HemewS-3D/version2/velocity',\n",
    "    max_downloads=None\n",
    ")"
   ]
  },
  {
   "cell_type": "markdown",
   "metadata": {},
   "source": [
    "\n",
    "## Downloading single faulty file"
   ]
  },
  {
   "cell_type": "code",
   "execution_count": 4,
   "metadata": {},
   "outputs": [
    {
     "data": {
      "text/html": [
       "<div>\n",
       "<style scoped>\n",
       "    .dataframe tbody tr th:only-of-type {\n",
       "        vertical-align: middle;\n",
       "    }\n",
       "\n",
       "    .dataframe tbody tr th {\n",
       "        vertical-align: top;\n",
       "    }\n",
       "\n",
       "    .dataframe thead th {\n",
       "        text-align: right;\n",
       "    }\n",
       "</style>\n",
       "<table border=\"1\" class=\"dataframe\">\n",
       "  <thead>\n",
       "    <tr style=\"text-align: right;\">\n",
       "      <th></th>\n",
       "      <th>link_element</th>\n",
       "      <th>persistent_id</th>\n",
       "      <th>fname</th>\n",
       "      <th>download_link</th>\n",
       "    </tr>\n",
       "  </thead>\n",
       "  <tbody>\n",
       "    <tr>\n",
       "      <th>0</th>\n",
       "      <td>&lt;a href=\"/file.xhtml?persistentId=doi:10.57745...</td>\n",
       "      <td>7XMGCR</td>\n",
       "      <td>velocity0-99.feather</td>\n",
       "      <td>https://entrepot.recherche.data.gouv.fr/api/ac...</td>\n",
       "    </tr>\n",
       "    <tr>\n",
       "      <th>1</th>\n",
       "      <td>&lt;a href=\"/file.xhtml?persistentId=doi:10.57745...</td>\n",
       "      <td>JZBA9R</td>\n",
       "      <td>velocity100-199.feather</td>\n",
       "      <td>https://entrepot.recherche.data.gouv.fr/api/ac...</td>\n",
       "    </tr>\n",
       "    <tr>\n",
       "      <th>2</th>\n",
       "      <td>&lt;a href=\"/file.xhtml?persistentId=doi:10.57745...</td>\n",
       "      <td>QGQNSJ</td>\n",
       "      <td>velocity1000-1099.feather</td>\n",
       "      <td>https://entrepot.recherche.data.gouv.fr/api/ac...</td>\n",
       "    </tr>\n",
       "    <tr>\n",
       "      <th>3</th>\n",
       "      <td>&lt;a href=\"/file.xhtml?persistentId=doi:10.57745...</td>\n",
       "      <td>HWDFKC</td>\n",
       "      <td>velocity10000-10099.feather</td>\n",
       "      <td>https://entrepot.recherche.data.gouv.fr/api/ac...</td>\n",
       "    </tr>\n",
       "    <tr>\n",
       "      <th>4</th>\n",
       "      <td>&lt;a href=\"/file.xhtml?persistentId=doi:10.57745...</td>\n",
       "      <td>SXTQKG</td>\n",
       "      <td>velocity10100-10199.feather</td>\n",
       "      <td>https://entrepot.recherche.data.gouv.fr/api/ac...</td>\n",
       "    </tr>\n",
       "  </tbody>\n",
       "</table>\n",
       "</div>"
      ],
      "text/plain": [
       "                                        link_element persistent_id  \\\n",
       "0  <a href=\"/file.xhtml?persistentId=doi:10.57745...        7XMGCR   \n",
       "1  <a href=\"/file.xhtml?persistentId=doi:10.57745...        JZBA9R   \n",
       "2  <a href=\"/file.xhtml?persistentId=doi:10.57745...        QGQNSJ   \n",
       "3  <a href=\"/file.xhtml?persistentId=doi:10.57745...        HWDFKC   \n",
       "4  <a href=\"/file.xhtml?persistentId=doi:10.57745...        SXTQKG   \n",
       "\n",
       "                         fname  \\\n",
       "0         velocity0-99.feather   \n",
       "1      velocity100-199.feather   \n",
       "2    velocity1000-1099.feather   \n",
       "3  velocity10000-10099.feather   \n",
       "4  velocity10100-10199.feather   \n",
       "\n",
       "                                       download_link  \n",
       "0  https://entrepot.recherche.data.gouv.fr/api/ac...  \n",
       "1  https://entrepot.recherche.data.gouv.fr/api/ac...  \n",
       "2  https://entrepot.recherche.data.gouv.fr/api/ac...  \n",
       "3  https://entrepot.recherche.data.gouv.fr/api/ac...  \n",
       "4  https://entrepot.recherche.data.gouv.fr/api/ac...  "
      ]
     },
     "execution_count": 4,
     "metadata": {},
     "output_type": "execute_result"
    }
   ],
   "source": [
    "download_urls_fpath=r'/cluster/home/lcarretero/workspace/rds/HEMEW3D/GenCFD-prep/data-download/download_urls_V1-velocity.csv'\n",
    "df = pd.read_csv(download_urls_fpath)\n",
    "df.head()"
   ]
  },
  {
   "cell_type": "code",
   "execution_count": 7,
   "metadata": {},
   "outputs": [
    {
     "name": "stdout",
     "output_type": "stream",
     "text": [
      "https://entrepot.recherche.data.gouv.fr/api/access/datafile/:persistentId?persistentId=doi:10.57745/6R65AA\n"
     ]
    }
   ],
   "source": [
    "faulty_file_name = 'velocity8500-8599.feather'\n",
    "url = df[df.fname==faulty_file_name].download_link.values[0]\n",
    "print(url)"
   ]
  },
  {
   "cell_type": "code",
   "execution_count": 8,
   "metadata": {},
   "outputs": [],
   "source": [
    "save_dir = r'/cluster/work/math/camlab-data/Wave_HemewS-3D/version1/velocity'\n",
    "fname = faulty_file_name\n",
    "\n",
    "os.remove(os.path.join(save_dir, fname))\n",
    "\n",
    "response = requests.get(url, stream=True)\n",
    "response.raise_for_status()\n",
    "with open(os.path.join(save_dir, fname), 'wb') as f:\n",
    "    try:\n",
    "        for chunk in response.iter_content(chunk_size=8192):\n",
    "            f.write(chunk)\n",
    "    except Exception as e:\n",
    "        print(f'[ERROR] Error downloading file {fname}: {e}')\n",
    "        os.remove(os.path.join(save_dir, fname))"
   ]
  }
 ],
 "metadata": {
  "kernelspec": {
   "display_name": "Python (rds-misc)",
   "language": "python",
   "name": "rds-misc"
  },
  "language_info": {
   "codemirror_mode": {
    "name": "ipython",
    "version": 3
   },
   "file_extension": ".py",
   "mimetype": "text/x-python",
   "name": "python",
   "nbconvert_exporter": "python",
   "pygments_lexer": "ipython3",
   "version": "3.11.6"
  }
 },
 "nbformat": 4,
 "nbformat_minor": 2
}
